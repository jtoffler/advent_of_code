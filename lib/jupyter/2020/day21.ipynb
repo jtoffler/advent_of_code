{
 "cells": [
  {
   "cell_type": "markdown",
   "metadata": {},
   "source": [
    "### Puzzle"
   ]
  },
  {
   "cell_type": "markdown",
   "metadata": {},
   "source": [
    "https://adventofcode.com/2020/day/21"
   ]
  },
  {
   "cell_type": "markdown",
   "metadata": {},
   "source": [
    "### Imports"
   ]
  },
  {
   "cell_type": "code",
   "execution_count": 33,
   "metadata": {},
   "outputs": [],
   "source": [
    "from functools import reduce"
   ]
  },
  {
   "cell_type": "markdown",
   "metadata": {},
   "source": [
    "### Load Input"
   ]
  },
  {
   "cell_type": "code",
   "execution_count": 57,
   "metadata": {},
   "outputs": [],
   "source": [
    "# Store the location of the input directory\n",
    "data_dir = '../../../data/2020'\n",
    "\n",
    "# Open the input and store a list of each item as an int\n",
    "with open(f\"{data_dir}/day21_input.txt\") as f:\n",
    "    inputs = f.read().splitlines()"
   ]
  },
  {
   "cell_type": "markdown",
   "metadata": {},
   "source": [
    "### Part 1"
   ]
  },
  {
   "cell_type": "code",
   "execution_count": 71,
   "metadata": {},
   "outputs": [],
   "source": [
    "# Initialize a dictionary where each allergen is a key and a list of ingredients lists is the value\n",
    "possible_allergens_dict = dict()"
   ]
  },
  {
   "cell_type": "code",
   "execution_count": 72,
   "metadata": {},
   "outputs": [],
   "source": [
    "# Look at every list of ingredients\n",
    "for ingredients_list in inputs:\n",
    "    \n",
    "    # Separate into a list of ingredients and a list of allergens in that food item\n",
    "    ingredients = tuple(ingredients_list.split('(')[0].strip().split(' '))\n",
    "    allergens = ingredients_list.split('contains ')[1].replace(')', '').split(', ')\n",
    "    \n",
    "    # Add each ingredients list to list of ingredients lists that contain that allergen\n",
    "    for allergen in allergens:\n",
    "        # If this allergen hasn't been seen, initialize a value as an empty list\n",
    "        if allergen not in possible_allergens_dict.keys():\n",
    "            possible_allergens_dict[allergen] = []\n",
    "        possible_allergens_dict[allergen].append(ingredients)"
   ]
  },
  {
   "cell_type": "code",
   "execution_count": 73,
   "metadata": {},
   "outputs": [],
   "source": [
    "# Get all ingredients the could be allergens\n",
    "allergen_ingredients = []\n",
    "\n",
    "# For each allergen, find ingredients that appear in all lists\n",
    "for allergen in possible_allergens_dict.keys():\n",
    "    allergen_ingredients += list(reduce(lambda i, j: i & j, (set(x) for x in possible_allergens_dict[allergen])))"
   ]
  },
  {
   "cell_type": "code",
   "execution_count": 74,
   "metadata": {},
   "outputs": [],
   "source": [
    "# Initialize a counter to count the number of ingredients that are not possible allergens\n",
    "non_allergen_count = 0\n",
    "\n",
    "# For each ingredient, if the ingredient isn't a possible allergen, add it to the non_allergen_count\n",
    "for ingredients_list in inputs:\n",
    "    ingredients = tuple(ingredients_list.split('(')[0].strip().split(' '))\n",
    "    \n",
    "    for ingredient in ingredients:\n",
    "        if ingredient not in allergen_ingredients:\n",
    "            non_allergen_count += 1"
   ]
  },
  {
   "cell_type": "code",
   "execution_count": 75,
   "metadata": {},
   "outputs": [
    {
     "data": {
      "text/plain": [
       "1930"
      ]
     },
     "execution_count": 75,
     "metadata": {},
     "output_type": "execute_result"
    }
   ],
   "source": [
    "non_allergen_count"
   ]
  },
  {
   "cell_type": "markdown",
   "metadata": {},
   "source": [
    "### Part 2"
   ]
  },
  {
   "cell_type": "code",
   "execution_count": 134,
   "metadata": {},
   "outputs": [],
   "source": [
    "# Keep track of the allergen-ingredient mappings\n",
    "allergens_dict = dict()"
   ]
  },
  {
   "cell_type": "code",
   "execution_count": 135,
   "metadata": {},
   "outputs": [],
   "source": [
    "# Run until all allergens have been mapped to an ingredient\n",
    "while allergens_dict.keys() != possible_allergens_dict.keys():\n",
    "    \n",
    "    # Get the possible ingredients for each allergen and remove ingredients that are already mapped to an allergen\n",
    "    for allergen in possible_allergens_dict.keys():\n",
    "        possible_allergens = list(reduce(lambda i, j: i & j, (set(x) for x in possible_allergens_dict[allergen])))\n",
    "        possible_allergens = [allergen for allergen in possible_allergens if allergen not in allergens_dict.values()]\n",
    "\n",
    "        # If there is only one ingredient item that fits the criteria, store that allergen-ingredient as a mapping\n",
    "        if len(possible_allergens) == 1:\n",
    "            allergens_dict[allergen] = possible_allergens[0]"
   ]
  },
  {
   "cell_type": "code",
   "execution_count": 136,
   "metadata": {},
   "outputs": [],
   "source": [
    "# Sort the allergens alphabetically and put the foods containing each allergen in a comma-separated list\n",
    "foods_alphabetical = sorted(list(allergens_dict.keys()))\n",
    "allergens_alphabetical = [allergens_dict[food] for food in foods_alphabetical]\n",
    "output = ','.join(allergens_alphabetical)"
   ]
  },
  {
   "cell_type": "code",
   "execution_count": 137,
   "metadata": {},
   "outputs": [
    {
     "data": {
      "text/plain": [
       "'spcqmzfg,rpf,dzqlq,pflk,bltrbvz,xbdh,spql,bltzkxx'"
      ]
     },
     "execution_count": 137,
     "metadata": {},
     "output_type": "execute_result"
    }
   ],
   "source": [
    "output"
   ]
  }
 ],
 "metadata": {
  "kernelspec": {
   "display_name": "Python 3.9",
   "language": "python",
   "name": "py39"
  },
  "language_info": {
   "codemirror_mode": {
    "name": "ipython",
    "version": 3
   },
   "file_extension": ".py",
   "mimetype": "text/x-python",
   "name": "python",
   "nbconvert_exporter": "python",
   "pygments_lexer": "ipython3",
   "version": "3.9.0"
  }
 },
 "nbformat": 4,
 "nbformat_minor": 4
}

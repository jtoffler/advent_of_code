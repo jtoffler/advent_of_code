{
 "cells": [
  {
   "cell_type": "markdown",
   "metadata": {},
   "source": [
    "### Puzzle"
   ]
  },
  {
   "cell_type": "markdown",
   "metadata": {},
   "source": [
    "https://adventofcode.com/2020/day/11"
   ]
  },
  {
   "cell_type": "markdown",
   "metadata": {},
   "source": [
    "### Load Input"
   ]
  },
  {
   "cell_type": "code",
   "execution_count": 1,
   "metadata": {},
   "outputs": [],
   "source": [
    "# Store the location of the input directory\n",
    "data_dir = '../../../data/2020'\n",
    "\n",
    "# Open the input and store a list of each item as an int\n",
    "with open(f\"{data_dir}/day11_input.txt\") as f:\n",
    "    inputs = f.read().splitlines()"
   ]
  },
  {
   "cell_type": "markdown",
   "metadata": {},
   "source": [
    "### Part 1"
   ]
  },
  {
   "cell_type": "code",
   "execution_count": 270,
   "metadata": {},
   "outputs": [],
   "source": [
    "seat_chart = inputs"
   ]
  },
  {
   "cell_type": "code",
   "execution_count": 173,
   "metadata": {},
   "outputs": [],
   "source": [
    "def iterate_seat(seat_chart, row, seat):\n",
    "    # If this space if floor, return floor\n",
    "    if seat_chart[row][seat] == '.':\n",
    "        new_seat = '.'\n",
    "    \n",
    "    # Initialize a counter to keep track of how many neighboring seats are occupied\n",
    "    occupied_neighbors = 0\n",
    "    \n",
    "    # Get the indices of the neighbors\n",
    "    neighboring_rows = range(max(0, row-1), min(len(seat_chart), row+2))\n",
    "    neighboring_seats = range(max(0, seat-1), min(len(seat_chart[row]), seat+2))\n",
    "    \n",
    "    # Check every neighboring seat and add 1 to the counter if the seat is occupied\n",
    "    for neighboring_row in neighboring_rows:\n",
    "        for neighboring_seat in neighboring_seats:\n",
    "            if neighboring_row != row or neighboring_seat != seat:\n",
    "                if seat_chart[neighboring_row][neighboring_seat] == '#':\n",
    "                    occupied_neighbors += 1\n",
    "    \n",
    "    # Follow the rules as to whether a seat is occupied or empty next iteration            \n",
    "    if seat_chart[row][seat] == '#' and occupied_neighbors >= 4:\n",
    "        new_seat = 'L'\n",
    "    elif seat_chart[row][seat] == 'L' and occupied_neighbors == 0:\n",
    "        new_seat = '#'\n",
    "    else:\n",
    "        new_seat = seat_chart[row][seat]\n",
    "        \n",
    "    return new_seat"
   ]
  },
  {
   "cell_type": "code",
   "execution_count": 174,
   "metadata": {},
   "outputs": [],
   "source": [
    "def iterate_seat_chart(seat_chart):\n",
    "    # Initialize a list to store the new seating chart\n",
    "    new_seat_chart = []\n",
    "    \n",
    "    # Go through every seat and store whether it will be occupied or empty in the new seating chart\n",
    "    for i in range(len(seat_chart)):\n",
    "        new_row = ''\n",
    "        \n",
    "        for j in range(len(seat_chart[i])):\n",
    "            new_seat = iterate_seat(seat_chart, i, j)\n",
    "            new_row += new_seat\n",
    "            \n",
    "        new_seat_chart.append(new_row)\n",
    "    \n",
    "    return new_seat_chart"
   ]
  },
  {
   "cell_type": "code",
   "execution_count": 175,
   "metadata": {},
   "outputs": [],
   "source": [
    "# Run the first iteration\n",
    "old_seat_chart = seat_chart\n",
    "new_seat_chart = iterate_seat_chart(old_seat_chart)"
   ]
  },
  {
   "cell_type": "code",
   "execution_count": 176,
   "metadata": {},
   "outputs": [],
   "source": [
    "# Keep iterating until an equilibrium has been reached\n",
    "while old_seat_chart != new_seat_chart:\n",
    "    old_seat_chart = new_seat_chart\n",
    "    new_seat_chart = iterate_seat_chart(old_seat_chart)"
   ]
  },
  {
   "cell_type": "code",
   "execution_count": 178,
   "metadata": {},
   "outputs": [
    {
     "data": {
      "text/plain": [
       "2222"
      ]
     },
     "execution_count": 178,
     "metadata": {},
     "output_type": "execute_result"
    }
   ],
   "source": [
    "# Count the number of occupied seats in the equilibrium seating chart\n",
    "sum([row.count('#') for row in new_seat_chart])"
   ]
  },
  {
   "cell_type": "markdown",
   "metadata": {},
   "source": [
    "### Part 2"
   ]
  },
  {
   "cell_type": "code",
   "execution_count": 271,
   "metadata": {},
   "outputs": [],
   "source": [
    "def iterate_seat_v2(seat_chart, row, seat):\n",
    "    # If this space if floor, return floor\n",
    "    if seat_chart[row][seat] == '.':\n",
    "        new_seat = '.'\n",
    "    \n",
    "    # Initialize a counter to keep track of how many visible seats are occupied\n",
    "    occupied_visible = 0\n",
    "    \n",
    "    # Up and down\n",
    "    for i in [-1, 1]:\n",
    "        row_visible = row + i\n",
    "        \n",
    "        # If we get to the end of the seating chart and there visible seats, continue\n",
    "        if row_visible < 0:\n",
    "            continue\n",
    "\n",
    "        if row_visible == len(seat_chart):\n",
    "            continue\n",
    "            \n",
    "        # Keep checking the next row up or down until there is a non-floor seat\n",
    "        while seat_chart[row_visible][seat] == '.' and row_visible >= 1 and row_visible < len(seat_chart) - 1:\n",
    "            row_visible += i\n",
    "\n",
    "        # If the visible seat is occupied, add it to the counter\n",
    "        if seat_chart[row_visible][seat] == '#':\n",
    "            occupied_visible += 1\n",
    "            \n",
    "    # Left and right\n",
    "    for j in [-1, 1]:\n",
    "        seat_visible = seat + j\n",
    "        \n",
    "        # If we get to the end of the seating chart and there visible seats, continue\n",
    "        if seat_visible < 0:\n",
    "            continue\n",
    "\n",
    "        if seat_visible == len(seat_chart[row]):\n",
    "            continue\n",
    "\n",
    "        # Keep checking the next seat left or right until there is a non-floor seat\n",
    "        while seat_chart[row][seat_visible] == '.' and seat_visible >= 1 and seat_visible < len(seat_chart[row]) - 1:\n",
    "            seat_visible += j\n",
    "            \n",
    "        # If the visible seat is occupied, add it to the counter\n",
    "        if seat_chart[row][seat_visible] == '#':\n",
    "            occupied_visible += 1\n",
    "            \n",
    "    # Diagonal\n",
    "    for i in [-1, 1]:\n",
    "        for j in [-1, 1]:\n",
    "            row_visible = row + i\n",
    "            # If we get to the end of the seating chart and there visible seats, continue\n",
    "            if row_visible < 0:\n",
    "                continue\n",
    "\n",
    "            if row_visible == len(seat_chart):\n",
    "                continue\n",
    "            \n",
    "            seat_visible = seat + j\n",
    "            if seat_visible < 0:\n",
    "                continue\n",
    "\n",
    "            if seat_visible == len(seat_chart[row]):\n",
    "                continue\n",
    "            \n",
    "            # Keep checking the next diagonal spot is a non-floor seat\n",
    "            while seat_chart[row_visible][seat_visible] == '.' and row_visible >= 1 and row_visible < len(seat_chart) -1 and seat_visible >= 1 and seat_visible < len(seat_chart[row]) - 1:\n",
    "                row_visible += i\n",
    "                seat_visible += j\n",
    "            \n",
    "            # If the visible seat is occupied, add it to the counter\n",
    "            if seat_chart[row_visible][seat_visible] == '#':\n",
    "                occupied_visible += 1\n",
    "    \n",
    "    # Follow the rules as to whether a seat is occupied or empty next iteration            \n",
    "    if seat_chart[row][seat] == '#' and occupied_visible >= 5:\n",
    "        new_seat = 'L'\n",
    "    elif seat_chart[row][seat] == 'L' and occupied_visible == 0:\n",
    "        new_seat = '#'\n",
    "    else:\n",
    "        new_seat = seat_chart[row][seat]\n",
    "        \n",
    "    return new_seat"
   ]
  },
  {
   "cell_type": "code",
   "execution_count": 272,
   "metadata": {},
   "outputs": [],
   "source": [
    "def iterate_seat_chart_v2(seat_chart):\n",
    "    # Initialize a list to store the new seating chart\n",
    "    new_seat_chart = []\n",
    "    \n",
    "    # Go through every seat and store whether it will be occupied or empty in the new seating chart\n",
    "    for i in range(len(seat_chart)):\n",
    "        new_row = ''\n",
    "        \n",
    "        for j in range(len(seat_chart[i])):\n",
    "            new_seat = iterate_seat_v2(seat_chart, i, j)\n",
    "            new_row += new_seat\n",
    "            \n",
    "        new_seat_chart.append(new_row)\n",
    "    \n",
    "    return new_seat_chart"
   ]
  },
  {
   "cell_type": "code",
   "execution_count": 273,
   "metadata": {},
   "outputs": [],
   "source": [
    "# Run the first iteration\n",
    "old_seat_chart = seat_chart\n",
    "new_seat_chart = iterate_seat_chart_v2(old_seat_chart)"
   ]
  },
  {
   "cell_type": "code",
   "execution_count": 274,
   "metadata": {},
   "outputs": [],
   "source": [
    "# Keep iterating until an equilibrium has been reached\n",
    "while old_seat_chart != new_seat_chart:\n",
    "    old_seat_chart = new_seat_chart\n",
    "    new_seat_chart = iterate_seat_chart_v2(old_seat_chart)"
   ]
  },
  {
   "cell_type": "code",
   "execution_count": 275,
   "metadata": {},
   "outputs": [
    {
     "data": {
      "text/plain": [
       "2032"
      ]
     },
     "execution_count": 275,
     "metadata": {},
     "output_type": "execute_result"
    }
   ],
   "source": [
    "# Count the number of occupied seats in the equilibrium seating chart\n",
    "sum([row.count('#') for row in new_seat_chart])"
   ]
  },
  {
   "cell_type": "code",
   "execution_count": null,
   "metadata": {},
   "outputs": [],
   "source": []
  }
 ],
 "metadata": {
  "kernelspec": {
   "display_name": "Python 3.9",
   "language": "python",
   "name": "py39"
  },
  "language_info": {
   "codemirror_mode": {
    "name": "ipython",
    "version": 3
   },
   "file_extension": ".py",
   "mimetype": "text/x-python",
   "name": "python",
   "nbconvert_exporter": "python",
   "pygments_lexer": "ipython3",
   "version": "3.9.0"
  }
 },
 "nbformat": 4,
 "nbformat_minor": 4
}

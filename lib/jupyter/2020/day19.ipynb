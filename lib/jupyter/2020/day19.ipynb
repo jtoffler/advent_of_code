{
 "cells": [
  {
   "cell_type": "markdown",
   "metadata": {},
   "source": [
    "### Puzzle"
   ]
  },
  {
   "cell_type": "markdown",
   "metadata": {},
   "source": [
    "https://adventofcode.com/2020/day/19"
   ]
  },
  {
   "cell_type": "markdown",
   "metadata": {},
   "source": [
    "### Imports"
   ]
  },
  {
   "cell_type": "code",
   "execution_count": 342,
   "metadata": {},
   "outputs": [],
   "source": [
    "import regex"
   ]
  },
  {
   "cell_type": "markdown",
   "metadata": {},
   "source": [
    "### Load Input"
   ]
  },
  {
   "cell_type": "code",
   "execution_count": 547,
   "metadata": {},
   "outputs": [],
   "source": [
    "# Store the location of the input directory\n",
    "data_dir = '../../../data/2020'\n",
    "\n",
    "# Open the input and store a list of each item as an int\n",
    "with open(f\"{data_dir}/day19_input.txt\") as f:\n",
    "    inputs = f.read().splitlines()"
   ]
  },
  {
   "cell_type": "markdown",
   "metadata": {},
   "source": [
    "### Part 1"
   ]
  },
  {
   "cell_type": "code",
   "execution_count": 548,
   "metadata": {},
   "outputs": [],
   "source": [
    "def replace_next_key(rule, rules_dict):\n",
    "    # Initialize a pair of indices that will be used to extract a number with any number of digits\n",
    "    start_index = 0\n",
    "    end_index = -1\n",
    "\n",
    "    # Traverse the rule\n",
    "    for index, char in enumerate(rule):\n",
    "        next_index = index\n",
    "\n",
    "        # Make sure the second digit of a number isn't being recounted\n",
    "        if index > end_index:\n",
    "            \n",
    "            # Get all digits of the next number\n",
    "            while rule[next_index].isdigit():\n",
    "                start_index = index\n",
    "                next_index += 1\n",
    "            end_index = next_index\n",
    "            \n",
    "            # Store the number and replace that number in the current rule with that number's rules\n",
    "            key = rule[start_index:end_index]\n",
    "            if key.isdigit():\n",
    "                rule = rule[:start_index] + rules_dict[key] + rule[end_index:]\n",
    "                return rule"
   ]
  },
  {
   "cell_type": "code",
   "execution_count": 549,
   "metadata": {},
   "outputs": [],
   "source": [
    "# Split input into rules and messages based on the empty line\n",
    "rules = inputs[:inputs.index('')]\n",
    "messages = inputs[inputs.index('') + 1:]"
   ]
  },
  {
   "cell_type": "code",
   "execution_count": 550,
   "metadata": {},
   "outputs": [],
   "source": [
    "# Initialize a dictionary to store all of the rule mappings\n",
    "rules_dict = dict()\n",
    "\n",
    "# Clean up the rules so that parentheses, pipes, and quotes are appropriately handled \n",
    "for rule in rules:\n",
    "    rule_number = rule.split(':')[0]\n",
    "    rule_info = rule.split(':')[1].strip().replace('\"', '').split(' ')\n",
    "    rule_info = ''.join([f\"({char})\" if char.isdigit() else char for char in rule_info])\n",
    "    \n",
    "    rules_dict[rule_number] = rule_info"
   ]
  },
  {
   "cell_type": "code",
   "execution_count": 513,
   "metadata": {},
   "outputs": [],
   "source": [
    "# Replace all numbered rules until only letters remain\n",
    "while sum([char.isdigit() for char in rules_dict['0']]) > 0:\n",
    "    rules_dict['0'] = replace_next_key(rules_dict['0'], rules_dict)\n",
    "\n",
    "# Initialize a counter to count valid messages\n",
    "valid_messages = 0\n",
    "\n",
    "# Use Python's regular expression package to check if a message is valid and if so, add it to the counter\n",
    "for message in messages:\n",
    "    if regex.fullmatch(rules_dict['0'].replace(' ', ''), message):\n",
    "        valid_messages += 1"
   ]
  },
  {
   "cell_type": "code",
   "execution_count": 514,
   "metadata": {},
   "outputs": [
    {
     "data": {
      "text/plain": [
       "3"
      ]
     },
     "execution_count": 514,
     "metadata": {},
     "output_type": "execute_result"
    }
   ],
   "source": [
    "valid_messages"
   ]
  },
  {
   "cell_type": "markdown",
   "metadata": {},
   "source": [
    "### Part 2"
   ]
  },
  {
   "cell_type": "code",
   "execution_count": 515,
   "metadata": {},
   "outputs": [],
   "source": [
    "def replace_next_key_v2(rule, rules_dict):\n",
    "    # Initialize a pair of indices that will be used to extract a number with any number of digits\n",
    "    start_index = 0\n",
    "    end_index = -1\n",
    "\n",
    "    # Traverse the rule\n",
    "    for index, char in enumerate(rule):\n",
    "        next_index = index\n",
    "\n",
    "        # Make sure the second digit of a number isn't being recounted\n",
    "        if index > end_index:\n",
    "            \n",
    "            # Get all digits of the next number\n",
    "            while rule[next_index].isdigit():\n",
    "                start_index = index\n",
    "                next_index += 1\n",
    "            end_index = next_index\n",
    "            \n",
    "            # Store the number and replace that number in the current rule with that number's rules\n",
    "            key = rule[start_index:end_index]\n",
    "            if key.isdigit():\n",
    "                if key == '8':\n",
    "                    rule = rule[:start_index] + '(42)+' + rule[end_index:]\n",
    "                elif key == '11':\n",
    "                    rule = rule[:start_index] + '(42)+(31)+' + rule[end_index:]\n",
    "                else:\n",
    "                    rule = rule[:start_index] + rules_dict[key] + rule[end_index:]\n",
    "                return rule"
   ]
  },
  {
   "cell_type": "code",
   "execution_count": 551,
   "metadata": {},
   "outputs": [],
   "source": [
    "# Update rules 8 and 11, according to the directions\n",
    "rules_dict['8'] = '(42) | (42) (8)'\n",
    "rules_dict['11'] = '(42) (31) | (42) (11) (31)'"
   ]
  },
  {
   "cell_type": "code",
   "execution_count": 552,
   "metadata": {},
   "outputs": [],
   "source": [
    "# Replace all numbered rules until only letters remain\n",
    "while sum([char.isdigit() for char in rules_dict['0']]) > 0:\n",
    "    rules_dict['0'] = replace_next_key_v2(rules_dict['0'], rules_dict)"
   ]
  },
  {
   "cell_type": "code",
   "execution_count": 553,
   "metadata": {},
   "outputs": [],
   "source": [
    "# Do the same for just the 42-chain\n",
    "while sum([char.isdigit() for char in rules_dict['42']]) > 0:\n",
    "    rules_dict['42'] = replace_next_key_v2(rules_dict['42'], rules_dict)"
   ]
  },
  {
   "cell_type": "code",
   "execution_count": 554,
   "metadata": {},
   "outputs": [],
   "source": [
    "# Initialize a list to store valid messages plus some that are invalid but will be checked shortly\n",
    "valid_messages_temp = []\n",
    "\n",
    "# Use Python's regular expression package to check if a message is valid and if so, add it to the counter\n",
    "for message in messages:\n",
    "    if re.fullmatch(rules_dict['0'].replace(' ', ''), message):\n",
    "        valid_messages_temp.append(message)"
   ]
  },
  {
   "cell_type": "code",
   "execution_count": 556,
   "metadata": {},
   "outputs": [],
   "source": [
    "# The only key that uses the infinite loops is 0: 8 11 which becomes 0: 42 42 31\n",
    "# The messages from keys 42 and 31 are both 8-digit messages\n",
    "# We can individually verify every 8-digit sequence if it is a code-42 sequence or a code-31 sequence\n",
    "# There must more code-42 sequences than code-31 sequences\n",
    "# If the middle chain is a code-42 sequence, then it must be a valid message\n",
    "\n",
    "# Initialize a counter to count which of the temporary valid messages pass the additional check\n",
    "valid_messages = 0\n",
    "\n",
    "# Only check the messages that passed the first test\n",
    "for valid_message_temp in valid_messages_temp:\n",
    "    \n",
    "    # Get the middle 8-digit sequence\n",
    "    n_sequences = len(valid_message_temp)/8\n",
    "    if n_sequences%2 == 0:\n",
    "        middle_sequence_start = (n_sequences/2)*8\n",
    "        middle_sequence_end = (n_sequences/2)*8 + 8\n",
    "    else:\n",
    "        middle_sequence_start = ((n_sequences/2)-0.5)*8\n",
    "        middle_sequence_end = ((n_sequences/2)-0.5)*8 + 8\n",
    "        \n",
    "    # Check if the middle 8-digit sequence is a code-42 sequence and if so add it to the counter\n",
    "    if re.fullmatch(rules_dict['42'].replace(' ', ''), valid_message_temp[int(middle_sequence_start): int(middle_sequence_end)]):\n",
    "        valid_messages += 1"
   ]
  },
  {
   "cell_type": "code",
   "execution_count": 560,
   "metadata": {},
   "outputs": [
    {
     "data": {
      "text/plain": [
       "350"
      ]
     },
     "execution_count": 560,
     "metadata": {},
     "output_type": "execute_result"
    }
   ],
   "source": [
    "valid_messages"
   ]
  },
  {
   "cell_type": "code",
   "execution_count": null,
   "metadata": {},
   "outputs": [],
   "source": []
  }
 ],
 "metadata": {
  "kernelspec": {
   "display_name": "Python 3.9",
   "language": "python",
   "name": "py39"
  },
  "language_info": {
   "codemirror_mode": {
    "name": "ipython",
    "version": 3
   },
   "file_extension": ".py",
   "mimetype": "text/x-python",
   "name": "python",
   "nbconvert_exporter": "python",
   "pygments_lexer": "ipython3",
   "version": "3.9.0"
  }
 },
 "nbformat": 4,
 "nbformat_minor": 4
}

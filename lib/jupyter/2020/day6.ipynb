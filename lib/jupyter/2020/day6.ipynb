{
 "cells": [
  {
   "cell_type": "markdown",
   "metadata": {},
   "source": [
    "### Puzzle"
   ]
  },
  {
   "cell_type": "markdown",
   "metadata": {},
   "source": [
    "https://adventofcode.com/2020/day/6"
   ]
  },
  {
   "cell_type": "markdown",
   "metadata": {},
   "source": [
    "### Load Input"
   ]
  },
  {
   "cell_type": "code",
   "execution_count": 24,
   "metadata": {},
   "outputs": [],
   "source": [
    "# Store the location of the input directory\n",
    "data_dir = '../../../data/2020'\n",
    "\n",
    "# Open the input and store a list of each item as an int\n",
    "with open(f\"{data_dir}/day6_input.txt\") as f:\n",
    "    inputs = f.read().splitlines()"
   ]
  },
  {
   "cell_type": "markdown",
   "metadata": {},
   "source": [
    "### Part 1"
   ]
  },
  {
   "cell_type": "code",
   "execution_count": 25,
   "metadata": {},
   "outputs": [],
   "source": [
    "# Initialize a counter to count the total number of questions with at least one yes\n",
    "total_yes_any = 0\n",
    "\n",
    "# Go through every customs form\n",
    "remaining_forms = inputs\n",
    "while remaining_forms.count('') > 0:\n",
    "    # Get only the current form\n",
    "    current_form = remaining_forms[:remaining_forms.index('')]\n",
    "    \n",
    "    # Count the total number of questions with at least one yes for this group and add it to the total\n",
    "    group_yes_any = len(set(''.join(current_form)))\n",
    "    total_yes_any += group_yes_any\n",
    "    \n",
    "    # Remove the current form from the remaining forms\n",
    "    remaining_forms = remaining_forms[remaining_forms.index('')+1:]\n",
    "    \n",
    "# Add the last group to the total\n",
    "last_group_yes_any = len(set(''.join(remaining_forms)))\n",
    "total_yes_any += last_group_yes_any"
   ]
  },
  {
   "cell_type": "code",
   "execution_count": 26,
   "metadata": {},
   "outputs": [
    {
     "data": {
      "text/plain": [
       "6170"
      ]
     },
     "execution_count": 26,
     "metadata": {},
     "output_type": "execute_result"
    }
   ],
   "source": [
    "any_yes"
   ]
  },
  {
   "cell_type": "markdown",
   "metadata": {},
   "source": [
    "### Part 2"
   ]
  },
  {
   "cell_type": "code",
   "execution_count": 27,
   "metadata": {},
   "outputs": [],
   "source": [
    "# Initialize a counter to count the total number of questions with at least one yes\n",
    "total_yes_all = 0\n",
    "\n",
    "# Go through every customs form\n",
    "remaining_forms = inputs\n",
    "while remaining_forms.count('') > 0:\n",
    "    # Get only the current form\n",
    "    current_form = remaining_forms[:remaining_forms.index('')]\n",
    "    \n",
    "    # Count the total number of questions everyone in this group answered yes and add it to the total\n",
    "    if len(current_form) > 1:\n",
    "        group_yes_all = set(current_form[0])\n",
    "        \n",
    "        for person in current_form[1:]:\n",
    "            group_yes_all = group_yes_all.intersection(person)        \n",
    "    \n",
    "    else:\n",
    "        group_yes_all = current_form[0]\n",
    "    \n",
    "    total_yes_all += len(set(group_yes_all))\n",
    "    \n",
    "    # Remove the current form from the remaining forms\n",
    "    remaining_forms = remaining_forms[remaining_forms.index('')+1:]\n",
    "    \n",
    "# Add the last group to the total\n",
    "last_group_form = remaining_forms\n",
    "if len(last_group_form) > 1:\n",
    "    group_yes_all = set(last_group_form[0])\n",
    "    \n",
    "    for person in last_group_form[1:]:\n",
    "        group_yes_all = group_yes_all.intersection(person)\n",
    "        \n",
    "else:\n",
    "    group_yes_all = current_form[0]\n",
    "        \n",
    "last_group_yes_all = len(set(group_yes_all))\n",
    "total_yes_all += last_group_yes_all"
   ]
  },
  {
   "cell_type": "code",
   "execution_count": 28,
   "metadata": {},
   "outputs": [
    {
     "data": {
      "text/plain": [
       "2947"
      ]
     },
     "execution_count": 28,
     "metadata": {},
     "output_type": "execute_result"
    }
   ],
   "source": [
    "total_yes_all"
   ]
  },
  {
   "cell_type": "code",
   "execution_count": null,
   "metadata": {},
   "outputs": [],
   "source": []
  }
 ],
 "metadata": {
  "kernelspec": {
   "display_name": "Python 3.9",
   "language": "python",
   "name": "py39"
  },
  "language_info": {
   "codemirror_mode": {
    "name": "ipython",
    "version": 3
   },
   "file_extension": ".py",
   "mimetype": "text/x-python",
   "name": "python",
   "nbconvert_exporter": "python",
   "pygments_lexer": "ipython3",
   "version": "3.9.0"
  }
 },
 "nbformat": 4,
 "nbformat_minor": 4
}

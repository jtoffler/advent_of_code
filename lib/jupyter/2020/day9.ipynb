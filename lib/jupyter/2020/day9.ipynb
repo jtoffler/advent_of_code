{
 "cells": [
  {
   "cell_type": "markdown",
   "metadata": {},
   "source": [
    "### Puzzle"
   ]
  },
  {
   "cell_type": "markdown",
   "metadata": {},
   "source": [
    "https://adventofcode.com/2020/day/9"
   ]
  },
  {
   "cell_type": "markdown",
   "metadata": {},
   "source": [
    "### Load Input"
   ]
  },
  {
   "cell_type": "code",
   "execution_count": 145,
   "metadata": {},
   "outputs": [],
   "source": [
    "# Store the location of the input directory\n",
    "data_dir = '../../../data/2020'\n",
    "\n",
    "# Open the input and store a list of each item as an int\n",
    "with open(f\"{data_dir}/day9_input.txt\") as f:\n",
    "    inputs = f.read().splitlines()"
   ]
  },
  {
   "cell_type": "markdown",
   "metadata": {},
   "source": [
    "### Part 1"
   ]
  },
  {
   "cell_type": "code",
   "execution_count": 146,
   "metadata": {},
   "outputs": [],
   "source": [
    "cypher = inputs"
   ]
  },
  {
   "cell_type": "code",
   "execution_count": 147,
   "metadata": {},
   "outputs": [],
   "source": [
    "def is_valid_number(number_list, index, n_preceding):\n",
    "    number = int(number_list[index])\n",
    "    \n",
    "    # Get all preceding numbers and their complements that would add up to the target number\n",
    "    preceding_numbers = [int(number) for number in number_list[index-25:index]]\n",
    "    complement_numbers = [number - int(preceding_number) for preceding_number in preceding_numbers]\n",
    "    \n",
    "    # Check if there is any overlap\n",
    "    if any(item in complement_numbers for item in preceding_numbers):\n",
    "        return True\n",
    "    \n",
    "    return False"
   ]
  },
  {
   "cell_type": "code",
   "execution_count": 148,
   "metadata": {},
   "outputs": [],
   "source": [
    "# Start at the 26th number and traverse the list until there is an invalid number\n",
    "next_index = 25\n",
    "while is_valid_number(cypher, next_index, 25):\n",
    "    next_index += 1"
   ]
  },
  {
   "cell_type": "code",
   "execution_count": 149,
   "metadata": {},
   "outputs": [
    {
     "data": {
      "text/plain": [
       "'258585477'"
      ]
     },
     "execution_count": 149,
     "metadata": {},
     "output_type": "execute_result"
    }
   ],
   "source": [
    "cypher[next_index]"
   ]
  },
  {
   "cell_type": "markdown",
   "metadata": {},
   "source": [
    "### Part 2"
   ]
  },
  {
   "cell_type": "code",
   "execution_count": 131,
   "metadata": {},
   "outputs": [],
   "source": [
    "# Start from the first number and count up\n",
    "range_start = 0\n",
    "range_end = range_start + 1\n",
    "\n",
    "# Initialize a sum\n",
    "running_sum = int(cypher[range_start]) + int(cypher[range_end])"
   ]
  },
  {
   "cell_type": "code",
   "execution_count": 170,
   "metadata": {},
   "outputs": [],
   "source": [
    "# Get the number we're trying to sum to\n",
    "invalid_number = int(cypher[next_index])\n",
    "\n",
    "# Starting from the beginning of the list, expand the range until the sum is at least as big as the target number\n",
    "for i in range(len(cypher)-1):\n",
    "    range_start = i\n",
    "    range_end = i + 1\n",
    "    \n",
    "    running_sum = int(cypher[range_start]) + int(cypher[range_end])\n",
    "    \n",
    "    # If the sum is still less than the target number, add the next contiguous number in the range\n",
    "    while running_sum < invalid_number:\n",
    "        range_end += 1\n",
    "        running_sum += int(cypher[range_end])\n",
    "\n",
    "    # If the sum is equal to the target number, stop searching for the range\n",
    "    if running_sum == invalid_number:\n",
    "        break\n",
    "\n",
    "# Get the smallest and largest number in the contiguous range and add them together\n",
    "smallest_number = min(int(number) for number in cypher[range_start:range_end+1])\n",
    "largest_number = max(int(number) for number in cypher[range_start:range_end+1])"
   ]
  },
  {
   "cell_type": "code",
   "execution_count": 171,
   "metadata": {},
   "outputs": [
    {
     "data": {
      "text/plain": [
       "36981213"
      ]
     },
     "execution_count": 171,
     "metadata": {},
     "output_type": "execute_result"
    }
   ],
   "source": [
    "smallest_number + largest_number"
   ]
  },
  {
   "cell_type": "code",
   "execution_count": null,
   "metadata": {},
   "outputs": [],
   "source": []
  }
 ],
 "metadata": {
  "kernelspec": {
   "display_name": "Python 3.9",
   "language": "python",
   "name": "py39"
  },
  "language_info": {
   "codemirror_mode": {
    "name": "ipython",
    "version": 3
   },
   "file_extension": ".py",
   "mimetype": "text/x-python",
   "name": "python",
   "nbconvert_exporter": "python",
   "pygments_lexer": "ipython3",
   "version": "3.9.0"
  }
 },
 "nbformat": 4,
 "nbformat_minor": 4
}

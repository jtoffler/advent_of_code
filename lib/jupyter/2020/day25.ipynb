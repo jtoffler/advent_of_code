{
 "cells": [
  {
   "cell_type": "markdown",
   "metadata": {},
   "source": [
    "### Puzzle"
   ]
  },
  {
   "cell_type": "markdown",
   "metadata": {},
   "source": [
    "https://adventofcode.com/2020/day/25"
   ]
  },
  {
   "cell_type": "markdown",
   "metadata": {},
   "source": [
    "### Load Input"
   ]
  },
  {
   "cell_type": "code",
   "execution_count": 157,
   "metadata": {},
   "outputs": [],
   "source": [
    "# Store the location of the input directory\n",
    "data_dir = '../../../data/2020'\n",
    "\n",
    "# Open the input and store a list of each item as an int\n",
    "with open(f\"{data_dir}/day25_input.txt\") as f:\n",
    "    inputs = f.read().splitlines()"
   ]
  },
  {
   "cell_type": "markdown",
   "metadata": {},
   "source": [
    "### Part 1"
   ]
  },
  {
   "cell_type": "code",
   "execution_count": 158,
   "metadata": {},
   "outputs": [],
   "source": [
    "card_public_key = 5764801\n",
    "door_public_key = 17807724"
   ]
  },
  {
   "cell_type": "code",
   "execution_count": 172,
   "metadata": {},
   "outputs": [],
   "source": [
    "card_public_key = int(inputs[0])\n",
    "door_public_key = int(inputs[1])"
   ]
  },
  {
   "cell_type": "code",
   "execution_count": 173,
   "metadata": {},
   "outputs": [],
   "source": [
    "def transform_number(current_number, subject_number):\n",
    "    # Transform the subject number according to the given rules\n",
    "    current_number = (current_number * subject_number) % 20201227\n",
    "    return current_number"
   ]
  },
  {
   "cell_type": "code",
   "execution_count": 174,
   "metadata": {},
   "outputs": [],
   "source": [
    "def get_secret_loops(public_key, subject_number):\n",
    "    # Figure out how many loops are in the secret loops given the public key and the subject number\n",
    "    loop_counter = 0\n",
    "    current_number = 1\n",
    "\n",
    "    # Keep looping until the subject number is equal to the public key\n",
    "    while current_number != public_key:\n",
    "        current_number = transform_number(current_number, subject_number)\n",
    "        loop_counter += 1\n",
    "        \n",
    "    return loop_counter"
   ]
  },
  {
   "cell_type": "code",
   "execution_count": 175,
   "metadata": {},
   "outputs": [
    {
     "name": "stdout",
     "output_type": "stream",
     "text": [
      "13467729\n"
     ]
    }
   ],
   "source": [
    "card_secret_loops = get_secret_loops(card_public_key, 7)\n",
    "print(card_secret_loops)"
   ]
  },
  {
   "cell_type": "code",
   "execution_count": 176,
   "metadata": {},
   "outputs": [
    {
     "name": "stdout",
     "output_type": "stream",
     "text": [
      "3020524\n"
     ]
    }
   ],
   "source": [
    "door_secret_loops = get_secret_loops(door_public_key, 7)\n",
    "print(door_secret_loops)"
   ]
  },
  {
   "cell_type": "code",
   "execution_count": 177,
   "metadata": {},
   "outputs": [
    {
     "name": "stdout",
     "output_type": "stream",
     "text": [
      "9714832\n"
     ]
    }
   ],
   "source": [
    "current_number = 1\n",
    "subject_number = door_public_key\n",
    "for i in range(card_secret_loops):\n",
    "    current_number = transform_number(current_number, subject_number)\n",
    "encryption_key = current_number\n",
    "\n",
    "print(encryption_key)"
   ]
  },
  {
   "cell_type": "code",
   "execution_count": 178,
   "metadata": {},
   "outputs": [
    {
     "name": "stdout",
     "output_type": "stream",
     "text": [
      "9714832\n"
     ]
    }
   ],
   "source": [
    "current_number = 1\n",
    "subject_number = card_public_key\n",
    "for i in range(door_secret_loops):\n",
    "    current_number = transform_number(current_number, subject_number)\n",
    "encryption_key = current_number\n",
    "\n",
    "print(encryption_key)"
   ]
  },
  {
   "cell_type": "markdown",
   "metadata": {},
   "source": [
    "Guesses:  \n",
    "16753379 (too high)  \n",
    "16205966 (too high)"
   ]
  },
  {
   "cell_type": "code",
   "execution_count": null,
   "metadata": {},
   "outputs": [],
   "source": []
  }
 ],
 "metadata": {
  "kernelspec": {
   "display_name": "Python 3.9",
   "language": "python",
   "name": "py39"
  },
  "language_info": {
   "codemirror_mode": {
    "name": "ipython",
    "version": 3
   },
   "file_extension": ".py",
   "mimetype": "text/x-python",
   "name": "python",
   "nbconvert_exporter": "python",
   "pygments_lexer": "ipython3",
   "version": "3.9.0"
  }
 },
 "nbformat": 4,
 "nbformat_minor": 4
}

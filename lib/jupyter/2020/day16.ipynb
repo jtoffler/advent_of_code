{
 "cells": [
  {
   "cell_type": "markdown",
   "metadata": {},
   "source": [
    "### Puzzle"
   ]
  },
  {
   "cell_type": "markdown",
   "metadata": {},
   "source": [
    "https://adventofcode.com/2020/day/16"
   ]
  },
  {
   "cell_type": "markdown",
   "metadata": {},
   "source": [
    "### Imports"
   ]
  },
  {
   "cell_type": "code",
   "execution_count": 1,
   "metadata": {},
   "outputs": [],
   "source": [
    "import pandas as pd"
   ]
  },
  {
   "cell_type": "markdown",
   "metadata": {},
   "source": [
    "### Load Input"
   ]
  },
  {
   "cell_type": "code",
   "execution_count": 2,
   "metadata": {},
   "outputs": [],
   "source": [
    "# Store the location of the input directory\n",
    "data_dir = '../../../data/2020'\n",
    "\n",
    "# Open the input and store a list of each item as an int\n",
    "with open(f\"{data_dir}/day16_input.txt\") as f:\n",
    "    inputs = f.read().splitlines()"
   ]
  },
  {
   "cell_type": "code",
   "execution_count": 14,
   "metadata": {},
   "outputs": [],
   "source": [
    "# Initialize a dictionary to store the ranges of each of the fields\n",
    "field_dict = dict()\n",
    "\n",
    "# Split the input and grab only the field ranges\n",
    "field_ranges = inputs[:inputs.index('')]\n",
    "\n",
    "# For each field, store a list with every possible value for that field\n",
    "for field_range in field_ranges:\n",
    "    field = field_range.split(':')[0]\n",
    "    field = field.replace(' ', '_')\n",
    "    \n",
    "    ranges = field_range.split(': ')[1]\n",
    "    \n",
    "    low_range = ranges.split(' or ')[0]\n",
    "    low_range_min = int(low_range.split('-')[0])\n",
    "    low_range_max = int(low_range.split('-')[1]) + 1\n",
    "    \n",
    "    high_range = ranges.split(' or ')[1]\n",
    "    high_range_min = int(high_range.split('-')[0])\n",
    "    high_range_max = int(high_range.split('-')[1]) + 1\n",
    "    \n",
    "    field_dict[field] = list(range(low_range_min, low_range_max)) + list(range(high_range_min, high_range_max))\n",
    "\n",
    "# Split the input and grab only your ticket and turn it into a list of ints\n",
    "your_ticket = inputs[inputs.index('your ticket:') + 1]\n",
    "your_ticket = [int(x) for x in your_ticket.split(',')]\n",
    "\n",
    "# Split the input and grab only the nearby tickets and turn it into a list of lists of ints\n",
    "nearby_tickets = inputs[inputs.index('nearby tickets:') + 1:]\n",
    "nearby_tickets = [[int(x) for x in nearby_ticket.split(',')] for nearby_ticket in nearby_tickets]"
   ]
  },
  {
   "cell_type": "markdown",
   "metadata": {},
   "source": [
    "### Part 1"
   ]
  },
  {
   "cell_type": "code",
   "execution_count": 20,
   "metadata": {},
   "outputs": [
    {
     "name": "stdout",
     "output_type": "stream",
     "text": [
      "23122\n"
     ]
    }
   ],
   "source": [
    "# Turn the list of lists of all valid field values into a single list\n",
    "all_valid_values = []\n",
    "for valid_values in field_dict.values():\n",
    "    all_valid_values += valid_values\n",
    "\n",
    "# Initialize a counter for the error rate\n",
    "error_rate = 0\n",
    "\n",
    "# Check every field in every nearby ticket and add the value of the invalid field to the error_rate counter\n",
    "for nearby_ticket in nearby_tickets:\n",
    "    for field in nearby_ticket:\n",
    "        if field not in all_valid_values:\n",
    "            error_rate += field\n",
    "            \n",
    "print(error_rate)"
   ]
  },
  {
   "cell_type": "markdown",
   "metadata": {},
   "source": [
    "### Part 2"
   ]
  },
  {
   "cell_type": "code",
   "execution_count": 21,
   "metadata": {},
   "outputs": [],
   "source": [
    "# Throw out all invalid tickets\n",
    "# Keep a list of invalid tickets\n",
    "invalid_tickets = []\n",
    "for nearby_ticket in nearby_tickets:\n",
    "    for field in nearby_ticket:\n",
    "        # If any of the fields are invalid, add that ticket to the list of invalid tickets\n",
    "        if field not in all_valid_values:\n",
    "            invalid_tickets.append(nearby_ticket)\n",
    "            break\n",
    "            \n",
    "# Get the list of valid tickets by removing invalid tickets\n",
    "valid_tickets = [nearby_ticket for nearby_ticket in nearby_tickets if nearby_ticket not in invalid_tickets]\n",
    "\n",
    "# Store the valid tickets in a dataframe\n",
    "valid_tickets_df = pd.DataFrame(valid_tickets)"
   ]
  },
  {
   "cell_type": "code",
   "execution_count": 22,
   "metadata": {},
   "outputs": [],
   "source": [
    "# Create a dictionary that stores the mapping of the field name to the index in the ticket field list\n",
    "field_mapping_dict = dict()\n",
    "\n",
    "# Initialize all values to be -1\n",
    "for key in field_dict.keys():\n",
    "    field_mapping_dict[key] = -1"
   ]
  },
  {
   "cell_type": "code",
   "execution_count": 23,
   "metadata": {},
   "outputs": [],
   "source": [
    "# For each column, check to see if all values in that column fit in any of the ranges\n",
    "possible_mappings = []\n",
    "for col in valid_tickets_df.columns:\n",
    "    for field_name, field_values in field_dict.items():\n",
    "        if valid_tickets_df[col].isin(field_values).all():\n",
    "            possible_mappings.append([col, field_name])  \n",
    "\n",
    "# Store all possible column-field mappings in a dataframe\n",
    "possible_mappings_df = pd.DataFrame(possible_mappings, columns=['index', 'field'])"
   ]
  },
  {
   "cell_type": "code",
   "execution_count": 24,
   "metadata": {},
   "outputs": [],
   "source": [
    "# Iterate until all fields have been identified\n",
    "while -1 in field_mapping_dict.values():\n",
    "    # Orphans are column-field mappings where there is only mapping from column to field or field to column \n",
    "    orphans = []\n",
    "\n",
    "    # If there is a column with only one valid field, that column must map to that field\n",
    "    for index in possible_mappings_df['index'].unique():\n",
    "        possible_fields = possible_mappings_df[possible_mappings_df['index'] == index]\n",
    "\n",
    "        if len(possible_fields) == 1:\n",
    "            orphans.append([possible_fields.iloc[0]['index'], possible_fields.iloc[0]['field']])\n",
    "\n",
    "    # If there is a field with only one valid column, that column must map to that field\n",
    "    for field in possible_mappings_df['field'].unique():\n",
    "        possible_indices = possible_mappings_df[possible_mappings_df['field'] == field]\n",
    "\n",
    "        if len(possible_indices) == 1:\n",
    "            orphans.append([possible_indices.iloc[0]['index'], possible_indices.iloc[0]['field']])\n",
    "\n",
    "    # Add each orphan to the column-field dictionary mapping\n",
    "    for orphan in orphans:\n",
    "        field_mapping_dict[orphan[1]] = orphan[0]\n",
    "        possible_mappings_df = possible_mappings_df[possible_mappings_df['index'] != orphan[0]]\n",
    "        possible_mappings_df = possible_mappings_df[possible_mappings_df['field'] != orphan[1]]"
   ]
  },
  {
   "cell_type": "code",
   "execution_count": 25,
   "metadata": {},
   "outputs": [
    {
     "name": "stdout",
     "output_type": "stream",
     "text": [
      "362974212989\n"
     ]
    }
   ],
   "source": [
    "# Initialize a product to multiply my departure_ fields\n",
    "total_product = 1\n",
    "\n",
    "# For each column that is a departure field, multiply my ticket's value in that field to the running product\n",
    "for key, value in field_mapping_dict.items():\n",
    "    if key.startswith('departure'):\n",
    "        total_product *= your_ticket[value]\n",
    "        \n",
    "print(total_product)"
   ]
  },
  {
   "cell_type": "code",
   "execution_count": null,
   "metadata": {},
   "outputs": [],
   "source": []
  }
 ],
 "metadata": {
  "kernelspec": {
   "display_name": "Python 3.9",
   "language": "python",
   "name": "py39"
  },
  "language_info": {
   "codemirror_mode": {
    "name": "ipython",
    "version": 3
   },
   "file_extension": ".py",
   "mimetype": "text/x-python",
   "name": "python",
   "nbconvert_exporter": "python",
   "pygments_lexer": "ipython3",
   "version": "3.9.0"
  }
 },
 "nbformat": 4,
 "nbformat_minor": 4
}

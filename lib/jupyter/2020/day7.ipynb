{
 "cells": [
  {
   "cell_type": "markdown",
   "metadata": {},
   "source": [
    "### Puzzle"
   ]
  },
  {
   "cell_type": "markdown",
   "metadata": {},
   "source": [
    "https://adventofcode.com/2020/day/7"
   ]
  },
  {
   "cell_type": "markdown",
   "metadata": {},
   "source": [
    "### Load Input"
   ]
  },
  {
   "cell_type": "code",
   "execution_count": 1,
   "metadata": {},
   "outputs": [],
   "source": [
    "# Store the location of the input directory\n",
    "data_dir = '../../../data/2020'\n",
    "\n",
    "# Open the input and store a list of each item as an int\n",
    "with open(f\"{data_dir}/day7_input.txt\") as f:\n",
    "    inputs = f.read().splitlines()"
   ]
  },
  {
   "cell_type": "markdown",
   "metadata": {},
   "source": [
    "### Part 1"
   ]
  },
  {
   "cell_type": "code",
   "execution_count": 25,
   "metadata": {},
   "outputs": [],
   "source": [
    "# Initialize a dictionary to store all of the rules\n",
    "rules_dict = dict()\n",
    "\n",
    "# Go through each rule and parse the text\n",
    "for rule in inputs:\n",
    "    rule_key = rule.split(' bags contain ')[0]\n",
    "    if rule_key not in rules_dict.keys():\n",
    "        rules_dict[rule_key] = dict()\n",
    "    \n",
    "    rule_values = rule.split(' bags contain ')[1].split('.')[0].replace(' bags', '').replace(' bag', '')\n",
    "    rule_values = rule_values.split(', ')\n",
    "    \n",
    "    # Add the color and number of bags as it's own key-value pair\n",
    "    for rule_value in rule_values:\n",
    "        if rule_value != 'no other':\n",
    "            quantity = rule_value[0]\n",
    "            color = rule_value[2:]\n",
    "        \n",
    "            rules_dict[rule_key][color] = quantity"
   ]
  },
  {
   "cell_type": "code",
   "execution_count": 35,
   "metadata": {},
   "outputs": [],
   "source": [
    "def can_carry_shiny_gold(rules_dict, key):\n",
    "    # Recursive function to determine whether or not a given bag can hold a shiny gold bag\n",
    "    if 'shiny gold' in rules_dict[key].keys():\n",
    "        return True\n",
    "    \n",
    "    else:\n",
    "        for color in rules_dict[key].keys():\n",
    "            if can_carry_shiny_gold(rules_dict, color):\n",
    "                return True\n",
    "        \n",
    "    return False"
   ]
  },
  {
   "cell_type": "code",
   "execution_count": 37,
   "metadata": {},
   "outputs": [
    {
     "data": {
      "text/plain": [
       "233"
      ]
     },
     "execution_count": 37,
     "metadata": {},
     "output_type": "execute_result"
    }
   ],
   "source": [
    "sum([can_carry_shiny_gold(rules_dict, key) for key in rules_dict.keys()])"
   ]
  },
  {
   "cell_type": "markdown",
   "metadata": {},
   "source": [
    "### Part 2"
   ]
  },
  {
   "cell_type": "code",
   "execution_count": 51,
   "metadata": {},
   "outputs": [],
   "source": [
    "def n_bags(rules_dict, key):\n",
    "    # Recursive function to count the total number of bags needed for a given color\n",
    "    bag_count = 0\n",
    "    \n",
    "    for color, quantity in rules_dict[key].items():\n",
    "        bag_count += int(quantity)\n",
    "        bag_count += int(quantity)*n_bags(rules_dict, color)\n",
    "        \n",
    "    return bag_count"
   ]
  },
  {
   "cell_type": "code",
   "execution_count": 52,
   "metadata": {},
   "outputs": [
    {
     "data": {
      "text/plain": [
       "421550"
      ]
     },
     "execution_count": 52,
     "metadata": {},
     "output_type": "execute_result"
    }
   ],
   "source": [
    "n_bags(rules_dict, 'shiny gold')"
   ]
  }
 ],
 "metadata": {
  "kernelspec": {
   "display_name": "Python 3.9",
   "language": "python",
   "name": "py39"
  },
  "language_info": {
   "codemirror_mode": {
    "name": "ipython",
    "version": 3
   },
   "file_extension": ".py",
   "mimetype": "text/x-python",
   "name": "python",
   "nbconvert_exporter": "python",
   "pygments_lexer": "ipython3",
   "version": "3.9.0"
  }
 },
 "nbformat": 4,
 "nbformat_minor": 4
}

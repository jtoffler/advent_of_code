{
 "cells": [
  {
   "cell_type": "markdown",
   "metadata": {},
   "source": [
    "### Puzzle"
   ]
  },
  {
   "cell_type": "markdown",
   "metadata": {},
   "source": [
    "https://adventofcode.com/2020/day/22"
   ]
  },
  {
   "cell_type": "markdown",
   "metadata": {},
   "source": [
    "### Load Input"
   ]
  },
  {
   "cell_type": "code",
   "execution_count": 342,
   "metadata": {},
   "outputs": [],
   "source": [
    "# Store the location of the input directory\n",
    "data_dir = '../../../data/2020'\n",
    "\n",
    "# Open the input and store a list of each item as an int\n",
    "with open(f\"{data_dir}/day22_input.txt\") as f:\n",
    "    inputs = f.read().splitlines()"
   ]
  },
  {
   "cell_type": "markdown",
   "metadata": {},
   "source": [
    "### Part 1"
   ]
  },
  {
   "cell_type": "code",
   "execution_count": 344,
   "metadata": {},
   "outputs": [],
   "source": [
    "def play_combat(deck_p1, deck_p2):\n",
    "    # Play as long as both players have cards\n",
    "    while len(deck_p1) > 0 and len(deck_p2) > 0:\n",
    "        \n",
    "        # For each turn, get the card the player is playing\n",
    "        card_p1 = deck_p1[0]\n",
    "        card_p2 = deck_p2[0]\n",
    "\n",
    "        # Get the remaining deck after the card has been played\n",
    "        deck_p1 = deck_p1[1:]\n",
    "        deck_p2 = deck_p2[1:]\n",
    "\n",
    "        # Place the higher card followed by the lower card at the bottom of the winner's deck\n",
    "        if card_p1 > card_p2:\n",
    "            deck_p1 += [card_p1, card_p2]\n",
    "        else:\n",
    "            deck_p2 += [card_p2, card_p1]\n",
    "        \n",
    "    return deck_p1, deck_p2"
   ]
  },
  {
   "cell_type": "code",
   "execution_count": 345,
   "metadata": {},
   "outputs": [],
   "source": [
    "# Turn the input to a list of integers for each player\n",
    "deck_p1 = inputs[1:inputs.index('')]\n",
    "deck_p2 = inputs[inputs.index('')+2:]\n",
    "\n",
    "deck_p1 = [int(card) for card in deck_p1]\n",
    "deck_p2 = [int(card) for card in deck_p2]"
   ]
  },
  {
   "cell_type": "code",
   "execution_count": 346,
   "metadata": {},
   "outputs": [],
   "source": [
    "# Play the game\n",
    "deck_p1, deck_p2 = play_combat(deck_p1, deck_p2)"
   ]
  },
  {
   "cell_type": "code",
   "execution_count": 347,
   "metadata": {},
   "outputs": [],
   "source": [
    "# Initialize a counter to store the winning score\n",
    "winning_score = 0\n",
    "\n",
    "# Find the deck that has all of the cards\n",
    "if len(deck_p1) > 0:\n",
    "    winning_deck = deck_p1\n",
    "else:\n",
    "    winning_deck = deck_p2\n",
    "    \n",
    "# Calculate the winning score\n",
    "for index, card in enumerate(winning_deck):\n",
    "    winning_score += (len(winning_deck) - index)*card"
   ]
  },
  {
   "cell_type": "code",
   "execution_count": 348,
   "metadata": {},
   "outputs": [
    {
     "data": {
      "text/plain": [
       "32401"
      ]
     },
     "execution_count": 348,
     "metadata": {},
     "output_type": "execute_result"
    }
   ],
   "source": [
    "winning_score"
   ]
  },
  {
   "cell_type": "markdown",
   "metadata": {},
   "source": [
    "### Part 2"
   ]
  },
  {
   "cell_type": "code",
   "execution_count": 334,
   "metadata": {},
   "outputs": [],
   "source": [
    "def play_recursive_combat(deck_p1, deck_p2, previous_decks):\n",
    "    # Play as long as both players have cards\n",
    "    while len(deck_p1) > 0 and len(deck_p2) > 0:\n",
    "        \n",
    "        # For each turn, get the card the player is playing\n",
    "        card_p1 = deck_p1[0]\n",
    "        card_p2 = deck_p2[0]\n",
    "        \n",
    "        # Check if this set of decks has already been seen, making an infinite loop\n",
    "        if [deck_p1, deck_p2] in previous_decks:\n",
    "            \n",
    "            # If it has been seen, return two lists where the second list is empty so that player 1 is the winner\n",
    "            return ['Player 1 wins by infinite game rule!'], []\n",
    "\n",
    "        else:\n",
    "            # Add the current decks to the list of previously seen decks\n",
    "            previous_decks.append([deck_p1.copy(), deck_p2.copy()])\n",
    "\n",
    "            # Get the remaining deck after the card has been played\n",
    "            deck_p1 = deck_p1[1:]\n",
    "            deck_p2 = deck_p2[1:]\n",
    "\n",
    "            # Check if a sub-game needs to be played in order to find the winner of the round\n",
    "            if len(deck_p1)+1 > card_p1 and len(deck_p2)+1 > card_p2:\n",
    "                sub_deck_p1 = deck_p1.copy()[:card_p1]\n",
    "                sub_deck_p2 = deck_p2.copy()[:card_p2]\n",
    "\n",
    "                # Play a new sub-game with the sub-decks\n",
    "                while len(sub_deck_p1) > 0 and len(sub_deck_p2) > 0:\n",
    "                    sub_deck_p1, sub_deck_p2 = play_recursive_combat(sub_deck_p1, sub_deck_p2, [])\n",
    "\n",
    "                # Place the winning card followed by the losing card at the bottom of the winner's deck\n",
    "                if len(sub_deck_p1) > 0:\n",
    "                    deck_p1 += [card_p1, card_p2]\n",
    "                else:\n",
    "                    deck_p2 += [card_p2, card_p1]\n",
    "\n",
    "            # If there is no sub-game, the winner is the person with the higher card\n",
    "            elif card_p1 > card_p2:\n",
    "                deck_p1 += [card_p1, card_p2]\n",
    "            else:\n",
    "                deck_p2 += [card_p2, card_p1]\n",
    "\n",
    "    return deck_p1, deck_p2"
   ]
  },
  {
   "cell_type": "code",
   "execution_count": 335,
   "metadata": {},
   "outputs": [],
   "source": [
    "# Turn the input to a list of integers for each player\n",
    "deck_p1 = inputs[1:inputs.index('')]\n",
    "deck_p2 = inputs[inputs.index('')+2:]\n",
    "\n",
    "deck_p1 = [int(card) for card in deck_p1]\n",
    "deck_p2 = [int(card) for card in deck_p2]"
   ]
  },
  {
   "cell_type": "code",
   "execution_count": 337,
   "metadata": {},
   "outputs": [],
   "source": [
    "# Play the game\n",
    "deck_p1, deck_p2 = play_recursive_combat(deck_p1, deck_p2, [])"
   ]
  },
  {
   "cell_type": "code",
   "execution_count": 338,
   "metadata": {},
   "outputs": [],
   "source": [
    "# Initialize a counter to store the winning score\n",
    "winning_score = 0\n",
    "\n",
    "# Find the deck that has all of the cards\n",
    "if len(deck_p1) > 0:\n",
    "    winning_deck = deck_p1\n",
    "else:\n",
    "    winning_deck = deck_p2\n",
    "    \n",
    "# Calculate the winning score\n",
    "for index, card in enumerate(winning_deck):\n",
    "    winning_score += (len(winning_deck) - index)*card"
   ]
  },
  {
   "cell_type": "code",
   "execution_count": 339,
   "metadata": {},
   "outputs": [
    {
     "data": {
      "text/plain": [
       "31436"
      ]
     },
     "execution_count": 339,
     "metadata": {},
     "output_type": "execute_result"
    }
   ],
   "source": [
    "winning_score"
   ]
  },
  {
   "cell_type": "code",
   "execution_count": null,
   "metadata": {},
   "outputs": [],
   "source": []
  }
 ],
 "metadata": {
  "kernelspec": {
   "display_name": "Python 3.9",
   "language": "python",
   "name": "py39"
  },
  "language_info": {
   "codemirror_mode": {
    "name": "ipython",
    "version": 3
   },
   "file_extension": ".py",
   "mimetype": "text/x-python",
   "name": "python",
   "nbconvert_exporter": "python",
   "pygments_lexer": "ipython3",
   "version": "3.9.0"
  }
 },
 "nbformat": 4,
 "nbformat_minor": 4
}

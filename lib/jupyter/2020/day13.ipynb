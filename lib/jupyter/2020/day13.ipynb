{
 "cells": [
  {
   "cell_type": "markdown",
   "metadata": {},
   "source": [
    "### Puzzle"
   ]
  },
  {
   "cell_type": "markdown",
   "metadata": {},
   "source": [
    "https://adventofcode.com/2020/day/13"
   ]
  },
  {
   "cell_type": "markdown",
   "metadata": {},
   "source": [
    "### Imports"
   ]
  },
  {
   "cell_type": "code",
   "execution_count": 15,
   "metadata": {},
   "outputs": [],
   "source": [
    "import math"
   ]
  },
  {
   "cell_type": "markdown",
   "metadata": {},
   "source": [
    "### Load Input"
   ]
  },
  {
   "cell_type": "code",
   "execution_count": 320,
   "metadata": {},
   "outputs": [],
   "source": [
    "# Store the location of the input directory\n",
    "data_dir = '../../../data/2020'\n",
    "\n",
    "# Open the input and store a list of each item as an int\n",
    "with open(f\"{data_dir}/day13_input.txt\") as f:\n",
    "    inputs = f.read().splitlines()"
   ]
  },
  {
   "cell_type": "markdown",
   "metadata": {},
   "source": [
    "### Part 1"
   ]
  },
  {
   "cell_type": "code",
   "execution_count": 321,
   "metadata": {},
   "outputs": [],
   "source": [
    "# Separate the inputs into the earliest timestamp you can leave and a list of bus timestamps\n",
    "earliest_timestamp = int(inputs[0])\n",
    "buses = inputs[1].split(',')"
   ]
  },
  {
   "cell_type": "code",
   "execution_count": 27,
   "metadata": {},
   "outputs": [],
   "source": [
    "# Initialize a shortest bus time\n",
    "shortest_wait_time = math.inf\n",
    "shortest_wait_bus = -1\n",
    "\n",
    "# For all in-service buses, find how soon the next one comes\n",
    "for bus in buses:\n",
    "    if bus.isdigit():\n",
    "        bus = int(bus)\n",
    "        next_bus = math.ceil(earliest_timestamp/bus)\n",
    "        wait_time = next_bus*bus - earliest_timestamp\n",
    "        \n",
    "        # If the next bus comes sooner than the current soonest bus, store it as the new soonest bus\n",
    "        if wait_time < shortest_wait_time:\n",
    "            shortest_wait_time = wait_time\n",
    "            shortest_wait_bus = bus"
   ]
  },
  {
   "cell_type": "code",
   "execution_count": 31,
   "metadata": {},
   "outputs": [
    {
     "data": {
      "text/plain": [
       "3215"
      ]
     },
     "execution_count": 31,
     "metadata": {},
     "output_type": "execute_result"
    }
   ],
   "source": [
    "shortest_wait_time * shortest_wait_bus"
   ]
  },
  {
   "cell_type": "markdown",
   "metadata": {},
   "source": [
    "### Part 2"
   ]
  },
  {
   "cell_type": "code",
   "execution_count": 322,
   "metadata": {},
   "outputs": [],
   "source": [
    "# Store all of the buses as ints and store out-of-service buses as -1\n",
    "buses = [int(bus) if bus.isdigit() else -1 for bus in buses]"
   ]
  },
  {
   "cell_type": "code",
   "execution_count": 327,
   "metadata": {},
   "outputs": [],
   "source": [
    "# Initialize a list to store buses already calculated\n",
    "used_buses = []\n",
    "\n",
    "# Get the next highest value of a bus\n",
    "next_highest_bus = max([bus for bus in buses if bus not in used_buses])"
   ]
  },
  {
   "cell_type": "code",
   "execution_count": 328,
   "metadata": {},
   "outputs": [],
   "source": [
    "# Initialize the first possible timestamp and the time interval to tne next cycle\n",
    "next_timestamp = next_highest_bus\n",
    "time_interval = 1"
   ]
  },
  {
   "cell_type": "code",
   "execution_count": 329,
   "metadata": {},
   "outputs": [],
   "source": [
    "# Go through the list until all buses are accounted for\n",
    "while next_highest_bus > 0:\n",
    "    \n",
    "    # Keep adding the interval until you find a valid timestamp for all buses\n",
    "    while (next_timestamp + buses.index(next_highest_bus)) % next_highest_bus != 0:\n",
    "        next_timestamp += time_interval\n",
    "\n",
    "    # Increase the time interval of the next cycle by multiplying the bus interval\n",
    "    time_interval *= next_highest_bus\n",
    "\n",
    "    # Add the bus to the list of used buses\n",
    "    used_buses.append(next_highest_bus)\n",
    "\n",
    "    # Get the next bus in the list\n",
    "    next_highest_bus = max([bus for bus in buses if bus not in used_buses])"
   ]
  },
  {
   "cell_type": "code",
   "execution_count": 330,
   "metadata": {},
   "outputs": [
    {
     "data": {
      "text/plain": [
       "1001569619313439"
      ]
     },
     "execution_count": 330,
     "metadata": {},
     "output_type": "execute_result"
    }
   ],
   "source": [
    "next_timestamp"
   ]
  },
  {
   "cell_type": "code",
   "execution_count": null,
   "metadata": {},
   "outputs": [],
   "source": []
  }
 ],
 "metadata": {
  "kernelspec": {
   "display_name": "Python 3.9",
   "language": "python",
   "name": "py39"
  },
  "language_info": {
   "codemirror_mode": {
    "name": "ipython",
    "version": 3
   },
   "file_extension": ".py",
   "mimetype": "text/x-python",
   "name": "python",
   "nbconvert_exporter": "python",
   "pygments_lexer": "ipython3",
   "version": "3.9.0"
  }
 },
 "nbformat": 4,
 "nbformat_minor": 4
}

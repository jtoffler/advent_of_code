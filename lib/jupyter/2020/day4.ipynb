{
 "cells": [
  {
   "cell_type": "markdown",
   "metadata": {},
   "source": [
    "### Puzzle"
   ]
  },
  {
   "cell_type": "markdown",
   "metadata": {},
   "source": [
    "https://adventofcode.com/2020/day/4"
   ]
  },
  {
   "cell_type": "markdown",
   "metadata": {},
   "source": [
    "### Load Input"
   ]
  },
  {
   "cell_type": "code",
   "execution_count": 125,
   "metadata": {},
   "outputs": [],
   "source": [
    "# Store the location of the input directory\n",
    "data_dir = '../../../data/2020'\n",
    "\n",
    "# Open the input\n",
    "with open(f\"{data_dir}/day4_input.txt\") as f:\n",
    "    inputs = f.read().splitlines()\n",
    "\n",
    "passports = inputs"
   ]
  },
  {
   "cell_type": "markdown",
   "metadata": {},
   "source": [
    "### Part 1"
   ]
  },
  {
   "cell_type": "code",
   "execution_count": 61,
   "metadata": {},
   "outputs": [],
   "source": [
    "# Store a list of all required fields\n",
    "required_fields = ['byr', 'iyr', 'eyr', 'hgt', 'hcl', 'ecl', 'pid']\n",
    "\n",
    "# Create a list of passports that still need to be checked\n",
    "passports_remaining = passports\n",
    "\n",
    "# Initialize a counter to count valid passports\n",
    "valid_passports = 0\n",
    "\n",
    "# If there are still more passports in the queue\n",
    "while passports_remaining.count('') > 0:\n",
    "\n",
    "    # Find where the current passport information ends\n",
    "    next_newline = passports_remaining.index('')\n",
    "\n",
    "    # Get the current passport's info and remove it from the list of passports waiting to be checked\n",
    "    passport = ' '.join(passports_remaining[:next_newline])\n",
    "    passports_remaining = passports_remaining[next_newline + 1:]\n",
    "\n",
    "    # Get only the fields on the passport\n",
    "    passport_fields = [info.split(':')[0] for info in passport.split(' ')]\n",
    "\n",
    "    # Check if all required fields are present in the current passport\n",
    "    if all(field in passport_fields for field in required_fields):\n",
    "        valid_passports += 1\n",
    "\n",
    "# Check the last remaining passport to see if it is valid\n",
    "if len(passports_remaining) > 0:\n",
    "    # Get the last passport's info\n",
    "    passport = ' '.join(passports_remaining[:])\n",
    "\n",
    "    # Get only the fields on the passport\n",
    "    passport_fields = [info.split(':')[0] for info in passport.split(' ')]\n",
    "\n",
    "    # Check if all required fields are present in the current passport\n",
    "    if all(field in passport_fields for field in required_fields):\n",
    "        valid_passports += 1"
   ]
  },
  {
   "cell_type": "code",
   "execution_count": 65,
   "metadata": {},
   "outputs": [
    {
     "data": {
      "text/plain": [
       "260"
      ]
     },
     "execution_count": 65,
     "metadata": {},
     "output_type": "execute_result"
    }
   ],
   "source": [
    "valid_passports"
   ]
  },
  {
   "cell_type": "markdown",
   "metadata": {},
   "source": [
    "### Part 2"
   ]
  },
  {
   "cell_type": "code",
   "execution_count": 135,
   "metadata": {},
   "outputs": [],
   "source": [
    "def is_valid_field(field, entry):\n",
    "    # This function checks if a piece of information on the passport is a valid piece of information\n",
    "    # byr (Birth Year) - four digits; at least 1920 and at most 2002.\n",
    "    if field == 'byr':\n",
    "        if int(entry) >= 1920 and int(entry) <= 2002:\n",
    "            return True\n",
    "        \n",
    "    # iyr (Issue Year) - four digits; at least 2010 and at most 2020.  \n",
    "    elif field == 'iyr':\n",
    "        if int(entry) >= 2010 and int(entry) <= 2020:\n",
    "            return True\n",
    "        \n",
    "    # eyr (Expiration Year) - four digits; at least 2020 and at most 2030. \n",
    "    elif field == 'eyr':\n",
    "        if int(entry) >= 2020 and int(entry) <= 2030:\n",
    "            return True\n",
    "    \n",
    "    # hgt (Height) - a number followed by either cm or in: \n",
    "    # If cm, the number must be at least 150 and at most 193.\n",
    "    # If in, the number must be at least 59 and at most 76.  \n",
    "    elif field == 'hgt':\n",
    "        if entry.endswith('cm'):\n",
    "            cm = entry.split('cm')[0]\n",
    "            if int(cm) >= 150 and int(cm) <= 193:\n",
    "                return True\n",
    "        elif entry.endswith('in'):\n",
    "            inches = entry.split('in')[0]\n",
    "            if int(inches) >= 59 and int(inches) <= 76:\n",
    "                return True\n",
    "    \n",
    "    # hcl (Hair Color) - a # followed by exactly six characters 0-9 or a-f.  \n",
    "    elif field == 'hcl':\n",
    "        if entry.startswith('#') and len(entry)==7:\n",
    "            valid_chars = ['a', 'b', 'c', 'd', 'e', 'f'] + [str(i) for i in range(0, 10)]\n",
    "            if all([char in valid_chars for char in entry[1:]]):\n",
    "                return True \n",
    "    \n",
    "    # ecl (Eye Color) - exactly one of: amb blu brn gry grn hzl oth.  \n",
    "    elif field == 'ecl':\n",
    "        if entry in ['amb', 'blu', 'brn', 'gry', 'grn', 'hzl', 'oth']:\n",
    "            return True\n",
    "        \n",
    "    # pid (Passport ID) - a nine-digit number, including leading zeroes.  \n",
    "    elif field == 'pid':\n",
    "        if len(entry) == 9 and entry.isdigit():\n",
    "            return True\n",
    "         \n",
    "    # cid (Country ID) - ignored, missing or not.    \n",
    "    elif field == 'cid':\n",
    "        return True"
   ]
  },
  {
   "cell_type": "code",
   "execution_count": 136,
   "metadata": {},
   "outputs": [],
   "source": [
    "# Store a list of all required fields\n",
    "required_fields = ['byr', 'iyr', 'eyr', 'hgt', 'hcl', 'ecl', 'pid']\n",
    "\n",
    "# Create a list of passports that still need to be checked\n",
    "passports_remaining = passports\n",
    "\n",
    "# Initialize a counter to count valid passports\n",
    "valid_passports = 0\n",
    "\n",
    "# If there are still more passports in the queue\n",
    "while passports_remaining.count('') > 0:\n",
    "\n",
    "    # Find where the current passport information ends\n",
    "    next_newline = passports_remaining.index('')\n",
    "\n",
    "    # Get the current passport's info and remove it from the list of passports waiting to be checked\n",
    "    passport = ' '.join(passports_remaining[:next_newline])\n",
    "    passports_remaining = passports_remaining[next_newline + 1:]\n",
    "\n",
    "    # Get only the fields on the passport\n",
    "    passport_fields = [info.split(':')[0] for info in passport.split(' ')]\n",
    "\n",
    "    # Check if all required fields are present in the current passport\n",
    "    if all(field in passport_fields for field in required_fields):\n",
    "        # Check if all fields have valid entry information\n",
    "        if all([is_valid_field(info.split(':')[0], info.split(':')[1]) for info in passport.split(' ')]):\n",
    "            valid_passports += 1\n",
    "\n",
    "# Check the last remaining passport to see if it is valid\n",
    "if len(passports_remaining) > 0:\n",
    "    # Get the last passport's info\n",
    "    passport = ' '.join(passports_remaining[:])\n",
    "\n",
    "    # Get only the fields on the passport\n",
    "    passport_fields = [info.split(':')[0] for info in passport.split(' ')]\n",
    "\n",
    "    # Check if all required fields are present in the current passport\n",
    "    if all(field in passport_fields for field in required_fields):\n",
    "        # Check if all fields have valid entry information\n",
    "        if all([is_valid_field(info.split(':')[0], info.split(':')[1]) for info in passport.split(' ')]):\n",
    "            valid_passports += 1"
   ]
  },
  {
   "cell_type": "code",
   "execution_count": 137,
   "metadata": {},
   "outputs": [
    {
     "data": {
      "text/plain": [
       "153"
      ]
     },
     "execution_count": 137,
     "metadata": {},
     "output_type": "execute_result"
    }
   ],
   "source": [
    "valid_passports"
   ]
  },
  {
   "cell_type": "code",
   "execution_count": null,
   "metadata": {},
   "outputs": [],
   "source": []
  }
 ],
 "metadata": {
  "kernelspec": {
   "display_name": "Python 3.9",
   "language": "python",
   "name": "py39"
  },
  "language_info": {
   "codemirror_mode": {
    "name": "ipython",
    "version": 3
   },
   "file_extension": ".py",
   "mimetype": "text/x-python",
   "name": "python",
   "nbconvert_exporter": "python",
   "pygments_lexer": "ipython3",
   "version": "3.9.0"
  }
 },
 "nbformat": 4,
 "nbformat_minor": 4
}

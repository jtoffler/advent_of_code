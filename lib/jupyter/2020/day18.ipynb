{
 "cells": [
  {
   "cell_type": "markdown",
   "metadata": {},
   "source": [
    "### Puzzle"
   ]
  },
  {
   "cell_type": "markdown",
   "metadata": {},
   "source": [
    "https://adventofcode.com/2020/day/18"
   ]
  },
  {
   "cell_type": "markdown",
   "metadata": {},
   "source": [
    "### Load Input"
   ]
  },
  {
   "cell_type": "code",
   "execution_count": 12,
   "metadata": {},
   "outputs": [],
   "source": [
    "# Store the location of the input directory\n",
    "data_dir = '../../../data/2020'\n",
    "\n",
    "# Open the input and store a list of each item as an int\n",
    "with open(f\"{data_dir}/day18_input.txt\") as f:\n",
    "    inputs = f.read().splitlines()"
   ]
  },
  {
   "cell_type": "markdown",
   "metadata": {},
   "source": [
    "### Part 1"
   ]
  },
  {
   "cell_type": "code",
   "execution_count": 13,
   "metadata": {},
   "outputs": [],
   "source": [
    "def evaluate_expression(expression):\n",
    "    # Split the expression string into a list\n",
    "    values = expression.split(' ')\n",
    "    \n",
    "    # Initialize an output to 0 with the first operator being '+' so that the first number seen is added to 0\n",
    "    output = 0\n",
    "    operator = '+'\n",
    "    \n",
    "    # Move from left to right in the parentheses-free expression\n",
    "    for value in values:\n",
    "        \n",
    "        # If the item in the list is a number, add or multiply it to the current output\n",
    "        if value.isdigit():\n",
    "            output = eval(f'output {operator} {value}')\n",
    "        \n",
    "        # Ignore empty items in the list\n",
    "        elif value == '':\n",
    "            pass\n",
    "        \n",
    "        # If the item in the list is an operator, store it as the current operator\n",
    "        else:\n",
    "            operator = value\n",
    "    return output"
   ]
  },
  {
   "cell_type": "code",
   "execution_count": 14,
   "metadata": {},
   "outputs": [],
   "source": [
    "def new_order_of_operations(expression):\n",
    "    # Keep track of what remains to be evaluated in the expression\n",
    "    remaining_expression = expression\n",
    "    \n",
    "    # Evaluate all parentheticals\n",
    "    while '(' in remaining_expression:\n",
    "    \n",
    "        # Find the first close parentheses\n",
    "        first_close_parentheses = remaining_expression.index(')')\n",
    "\n",
    "        # Find the last open parentheses before the first close parentheses\n",
    "        last_open_parentheses = first_close_parentheses - remaining_expression[first_close_parentheses::-1].index('(') + 1\n",
    "\n",
    "        # Evaluate the expression inside the parenthetical\n",
    "        parenthetical_value = evaluate_expression(remaining_expression[last_open_parentheses:first_close_parentheses])\n",
    "\n",
    "        # Replace parenthetical value with expression evaluation\n",
    "        remaining_expression = f'{remaining_expression[:last_open_parentheses-1]}{parenthetical_value}{remaining_expression[first_close_parentheses + 1:]}'\n",
    "\n",
    "    # Evaluate the expression after all parentheticals have been evaluated\n",
    "    output = evaluate_expression(remaining_expression)\n",
    "    \n",
    "    return output"
   ]
  },
  {
   "cell_type": "code",
   "execution_count": 15,
   "metadata": {
    "scrolled": true
   },
   "outputs": [
    {
     "data": {
      "text/plain": [
       "1402255785165"
      ]
     },
     "execution_count": 15,
     "metadata": {},
     "output_type": "execute_result"
    }
   ],
   "source": [
    "sum([new_order_of_operations(expression) for expression in inputs])"
   ]
  },
  {
   "cell_type": "markdown",
   "metadata": {},
   "source": [
    "### Part 2"
   ]
  },
  {
   "cell_type": "code",
   "execution_count": 16,
   "metadata": {},
   "outputs": [],
   "source": [
    "def evaluate_expression_v2(expression):\n",
    "    # Split the parentheses-free expression string into a list\n",
    "    remaining_expression = expression.split(' ')\n",
    "    \n",
    "    # Evaluate all additions first\n",
    "    while '+' in remaining_expression:\n",
    "        \n",
    "        # Moving from left to right, find the first plus sign\n",
    "        first_plus = remaining_expression.index('+')\n",
    "        \n",
    "        # Add the two numbers surrounding the plus sign\n",
    "        addition_value = int(remaining_expression[first_plus - 1]) + int(remaining_expression[first_plus + 1])\n",
    "        \n",
    "        # Replace the elements that were just added together with their sum\n",
    "        remaining_expression = remaining_expression[:first_plus - 1] + [f\"{addition_value}\"] + remaining_expression[first_plus + 2:]\n",
    "        \n",
    "    # When there are no plus signs remaining, turn the remaining list into a string and evaluate the multiplication\n",
    "    output = eval(''.join(remaining_expression))\n",
    "    \n",
    "    return output"
   ]
  },
  {
   "cell_type": "code",
   "execution_count": 17,
   "metadata": {},
   "outputs": [],
   "source": [
    "def new_order_of_operations_v2(expression):\n",
    "    # Keep track of what remains to be evaluated in the expression\n",
    "    remaining_expression = expression\n",
    "    \n",
    "    # Evaluate all parentheticals\n",
    "    while '(' in remaining_expression:\n",
    "    \n",
    "        # Find the first close parentheses\n",
    "        first_close_parentheses = remaining_expression.index(')')\n",
    "\n",
    "        # Find the last open parentheses before the first close parentheses\n",
    "        last_open_parentheses = first_close_parentheses - remaining_expression[first_close_parentheses::-1].index('(') + 1\n",
    "\n",
    "        # Evaluate the expression inside the parenthetical\n",
    "        parenthetical_value = evaluate_expression_v2(remaining_expression[last_open_parentheses:first_close_parentheses])\n",
    "\n",
    "        # Replace parenthetical value with expression evaluation\n",
    "        remaining_expression = f'{remaining_expression[:last_open_parentheses-1]}{parenthetical_value}{remaining_expression[first_close_parentheses + 1:]}'\n",
    "        \n",
    "    # Evaluate the expression after all parentheticals have been evaluated\n",
    "    output = evaluate_expression_v2(remaining_expression)\n",
    "    \n",
    "    return output"
   ]
  },
  {
   "cell_type": "code",
   "execution_count": 18,
   "metadata": {},
   "outputs": [
    {
     "data": {
      "text/plain": [
       "119224703255966"
      ]
     },
     "execution_count": 18,
     "metadata": {},
     "output_type": "execute_result"
    }
   ],
   "source": [
    "sum([new_order_of_operations_v2(expression) for expression in inputs])"
   ]
  },
  {
   "cell_type": "code",
   "execution_count": null,
   "metadata": {},
   "outputs": [],
   "source": []
  }
 ],
 "metadata": {
  "kernelspec": {
   "display_name": "Python 3.9",
   "language": "python",
   "name": "py39"
  },
  "language_info": {
   "codemirror_mode": {
    "name": "ipython",
    "version": 3
   },
   "file_extension": ".py",
   "mimetype": "text/x-python",
   "name": "python",
   "nbconvert_exporter": "python",
   "pygments_lexer": "ipython3",
   "version": "3.9.0"
  }
 },
 "nbformat": 4,
 "nbformat_minor": 4
}

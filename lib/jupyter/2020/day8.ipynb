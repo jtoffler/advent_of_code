{
 "cells": [
  {
   "cell_type": "markdown",
   "metadata": {},
   "source": [
    "### Puzzle"
   ]
  },
  {
   "cell_type": "markdown",
   "metadata": {},
   "source": [
    "https://adventofcode.com/2020/day/8"
   ]
  },
  {
   "cell_type": "markdown",
   "metadata": {},
   "source": [
    "### Load Input"
   ]
  },
  {
   "cell_type": "code",
   "execution_count": 48,
   "metadata": {},
   "outputs": [],
   "source": [
    "# Store the location of the input directory\n",
    "data_dir = '../../../data/2020'\n",
    "\n",
    "# Open the input and store a list of each item as an int\n",
    "with open(f\"{data_dir}/day8_input.txt\") as f:\n",
    "    inputs = f.read().splitlines()"
   ]
  },
  {
   "cell_type": "markdown",
   "metadata": {},
   "source": [
    "### Part 1"
   ]
  },
  {
   "cell_type": "code",
   "execution_count": 49,
   "metadata": {},
   "outputs": [],
   "source": [
    "instructions = inputs\n",
    "\n",
    "# Initialize an accumulator, the first instruction, and a list of used instructions\n",
    "accumulator = 0\n",
    "current_instruction = 0\n",
    "used_instructions = []\n",
    "\n",
    "# If the program is given an instruction that has already been used, stop the infinite loop\n",
    "while current_instruction not in used_instructions:\n",
    "    used_instructions.append(current_instruction)\n",
    "    \n",
    "    if instructions[current_instruction].startswith('acc'):\n",
    "        accumulator += int(instructions[current_instruction].split(' ')[1])\n",
    "        current_instruction += 1\n",
    "    elif instructions[current_instruction].startswith('jmp'):\n",
    "        current_instruction += int(instructions[current_instruction].split(' ')[1])\n",
    "    else:\n",
    "        current_instruction += 1"
   ]
  },
  {
   "cell_type": "code",
   "execution_count": 50,
   "metadata": {},
   "outputs": [
    {
     "data": {
      "text/plain": [
       "1420"
      ]
     },
     "execution_count": 50,
     "metadata": {},
     "output_type": "execute_result"
    }
   ],
   "source": [
    "accumulator"
   ]
  },
  {
   "cell_type": "markdown",
   "metadata": {},
   "source": [
    "### Part 2"
   ]
  },
  {
   "cell_type": "code",
   "execution_count": 59,
   "metadata": {},
   "outputs": [],
   "source": [
    "instructions = inputs"
   ]
  },
  {
   "cell_type": "code",
   "execution_count": 60,
   "metadata": {},
   "outputs": [],
   "source": [
    "# Find all indices where the instruction is either 'jmp' or 'nop'\n",
    "possible_indices = []\n",
    "for index, instruction in enumerate(instructions):\n",
    "    if instruction.startswith('jmp') or instruction.startswith('nop'):\n",
    "        possible_indices.append(index)"
   ]
  },
  {
   "cell_type": "code",
   "execution_count": 61,
   "metadata": {},
   "outputs": [],
   "source": [
    "# Go through each of the indices that might need to be change and overwrite that instruction\n",
    "for index in possible_indices:\n",
    "    instruction = instructions[index]\n",
    "    \n",
    "    # Change jmp to nop and nop to jmp\n",
    "    if instructions[index].startswith('jmp'):\n",
    "        new_instruction = 'nop ' + instruction.split(' ')[1]\n",
    "    else:\n",
    "        new_instruction = 'jmp ' + instruction.split(' ')[1]\n",
    "        \n",
    "    new_instructions = instructions[:index] + [new_instruction] + instructions[index+1:]\n",
    "    \n",
    "    # Initialize an accumulator, the first instruction, and a list of used instructions\n",
    "    accumulator = 0\n",
    "    current_instruction = 0\n",
    "    used_instructions = []\n",
    "    \n",
    "    # If the program is in an infinite loop or if it terminates, stop the program\n",
    "    while current_instruction not in used_instructions and current_instruction != len(new_instructions):\n",
    "        used_instructions.append(current_instruction)\n",
    "        \n",
    "        if new_instructions[current_instruction].startswith('acc'):\n",
    "            accumulator += int(new_instructions[current_instruction].split(' ')[1])\n",
    "            current_instruction += 1\n",
    "            \n",
    "        elif new_instructions[current_instruction].startswith('jmp'):\n",
    "            current_instruction += int(new_instructions[current_instruction].split(' ')[1])\n",
    "        else:\n",
    "            current_instruction += 1\n",
    "      \n",
    "    # If the program was terminates, stop checking the indices to change\n",
    "    if current_instruction == len(new_instructions):\n",
    "        break"
   ]
  },
  {
   "cell_type": "code",
   "execution_count": 63,
   "metadata": {},
   "outputs": [
    {
     "data": {
      "text/plain": [
       "1245"
      ]
     },
     "execution_count": 63,
     "metadata": {},
     "output_type": "execute_result"
    }
   ],
   "source": [
    "accumulator"
   ]
  },
  {
   "cell_type": "code",
   "execution_count": null,
   "metadata": {},
   "outputs": [],
   "source": []
  }
 ],
 "metadata": {
  "kernelspec": {
   "display_name": "Python 3.9",
   "language": "python",
   "name": "py39"
  },
  "language_info": {
   "codemirror_mode": {
    "name": "ipython",
    "version": 3
   },
   "file_extension": ".py",
   "mimetype": "text/x-python",
   "name": "python",
   "nbconvert_exporter": "python",
   "pygments_lexer": "ipython3",
   "version": "3.9.0"
  }
 },
 "nbformat": 4,
 "nbformat_minor": 4
}

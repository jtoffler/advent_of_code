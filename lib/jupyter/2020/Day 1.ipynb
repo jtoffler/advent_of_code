{
 "cells": [
  {
   "cell_type": "markdown",
   "metadata": {},
   "source": [
    "### Puzzle"
   ]
  },
  {
   "cell_type": "markdown",
   "metadata": {},
   "source": [
    "https://adventofcode.com/2020/day/1"
   ]
  },
  {
   "cell_type": "markdown",
   "metadata": {},
   "source": [
    "### Load Input"
   ]
  },
  {
   "cell_type": "code",
   "execution_count": 1,
   "metadata": {},
   "outputs": [],
   "source": [
    "# Store the location of the input directory\n",
    "data_dir = '../../../data/2020'\n",
    "\n",
    "# Open the input and store a list of each item as an int\n",
    "with open(f\"{data_dir}/day1_input.txt\") as f:\n",
    "    expense_report = [int(expense.split('\\n')[0]) for expense in f.readlines()]"
   ]
  },
  {
   "cell_type": "markdown",
   "metadata": {},
   "source": [
    "### Part 1"
   ]
  },
  {
   "cell_type": "code",
   "execution_count": 2,
   "metadata": {},
   "outputs": [],
   "source": [
    "def sum_2020(expense_report):\n",
    "    # Check every item but the last in the expense report with every later item in the expense report\n",
    "    for i in range(len(expense_report)-1):\n",
    "        for j in range(i+1, len(expense_report)):\n",
    "            \n",
    "            # If two items sum to 2020, return the product of those two items\n",
    "            if expense_report[i]+expense_report[j] == 2020:\n",
    "                return expense_report[i]*expense_report[j]"
   ]
  },
  {
   "cell_type": "code",
   "execution_count": 3,
   "metadata": {},
   "outputs": [
    {
     "data": {
      "text/plain": [
       "1016619"
      ]
     },
     "execution_count": 3,
     "metadata": {},
     "output_type": "execute_result"
    }
   ],
   "source": [
    "sum_2020(expense_report)"
   ]
  },
  {
   "cell_type": "markdown",
   "metadata": {},
   "source": [
    "### Part 2"
   ]
  },
  {
   "cell_type": "code",
   "execution_count": 4,
   "metadata": {},
   "outputs": [],
   "source": [
    "def sum_2020_v2(expense_report):\n",
    "    # Check every item but the last and second-last in the expense report with every later item in the expense report\n",
    "    for i in range(len(expense_report)-2):\n",
    "        for j in range(i+1, len(expense_report)-1):\n",
    "            \n",
    "            # If the first two expenses already exceed 2020, don't bother checking if a third item sums to 2020\n",
    "            if expense_report[i] + expense_report[j] > 2020:\n",
    "                pass\n",
    "            else:\n",
    "                for k in range(j+1, len(expense_report)):\n",
    "                    if expense_report[i] + expense_report[j] + expense_report[k] == 2020:\n",
    "                        return expense_report[i]*expense_report[j]*expense_report[k]"
   ]
  },
  {
   "cell_type": "code",
   "execution_count": 5,
   "metadata": {},
   "outputs": [
    {
     "data": {
      "text/plain": [
       "218767230"
      ]
     },
     "execution_count": 5,
     "metadata": {},
     "output_type": "execute_result"
    }
   ],
   "source": [
    "sum_2020_v2(expense_report)"
   ]
  },
  {
   "cell_type": "code",
   "execution_count": null,
   "metadata": {},
   "outputs": [],
   "source": []
  }
 ],
 "metadata": {
  "kernelspec": {
   "display_name": "Python 3.9",
   "language": "python",
   "name": "py39"
  },
  "language_info": {
   "codemirror_mode": {
    "name": "ipython",
    "version": 3
   },
   "file_extension": ".py",
   "mimetype": "text/x-python",
   "name": "python",
   "nbconvert_exporter": "python",
   "pygments_lexer": "ipython3",
   "version": "3.9.0"
  }
 },
 "nbformat": 4,
 "nbformat_minor": 4
}

{
 "cells": [
  {
   "cell_type": "markdown",
   "metadata": {},
   "source": [
    "### Puzzle"
   ]
  },
  {
   "cell_type": "markdown",
   "metadata": {},
   "source": [
    "https://adventofcode.com/2020/day/10"
   ]
  },
  {
   "cell_type": "markdown",
   "metadata": {},
   "source": [
    "### Imports"
   ]
  },
  {
   "cell_type": "code",
   "execution_count": 44,
   "metadata": {},
   "outputs": [],
   "source": [
    "from collections import defaultdict"
   ]
  },
  {
   "cell_type": "markdown",
   "metadata": {},
   "source": [
    "### Load Input"
   ]
  },
  {
   "cell_type": "code",
   "execution_count": 1,
   "metadata": {},
   "outputs": [],
   "source": [
    "# Store the location of the input directory\n",
    "data_dir = '../../../data/2020'\n",
    "\n",
    "# Open the input and store a list of each item as an int\n",
    "with open(f\"{data_dir}/day10_input.txt\") as f:\n",
    "    inputs = f.read().splitlines()"
   ]
  },
  {
   "cell_type": "markdown",
   "metadata": {},
   "source": [
    "### Part 1"
   ]
  },
  {
   "cell_type": "code",
   "execution_count": 51,
   "metadata": {},
   "outputs": [],
   "source": [
    "# Store the inputs as a list of ints\n",
    "adapters = [int(adapter) for adapter in inputs]\n",
    "\n",
    "# Add 0 jolts and 3 jolts higher than the last adapter to the list\n",
    "adapters.append(0)\n",
    "adapters.append(max(adapters) + 3)\n",
    "\n",
    "# Sort the list in increasing order\n",
    "adapters = sorted(adapters)\n",
    "\n",
    "# Initialize counters to keep track of one-jolt differences and three-jolt differences\n",
    "one_jolt_diff = 0\n",
    "three_jolt_diff = 0\n",
    "\n",
    "# Traverse the list of adapters and check how far away the next adapter is, then add that to one of the counters\n",
    "for i in range(len(adapters)-1):            \n",
    "    if adapters[i+1] - adapters[i] == 1:\n",
    "        one_jolt_diff += 1\n",
    "    elif adapters[i+1] - adapters[i] == 3:\n",
    "        three_jolt_diff += 1"
   ]
  },
  {
   "cell_type": "code",
   "execution_count": 59,
   "metadata": {},
   "outputs": [
    {
     "data": {
      "text/plain": [
       "1820"
      ]
     },
     "execution_count": 59,
     "metadata": {},
     "output_type": "execute_result"
    }
   ],
   "source": [
    "one_jolt_diff * three_jolt_diff"
   ]
  },
  {
   "cell_type": "markdown",
   "metadata": {},
   "source": [
    "### Part 2"
   ]
  },
  {
   "cell_type": "code",
   "execution_count": 60,
   "metadata": {},
   "outputs": [],
   "source": [
    "# Initialize a default dictionary where the default value is 0\n",
    "adapter_dict = defaultdict(lambda: 0)\n",
    "\n",
    "# Initialize 0 volts to have 1 path\n",
    "adapter_dict[0] = 1\n",
    "\n",
    "# Traverse the list of adapters after 0\n",
    "for adapter in adapters[1:]:\n",
    "    \n",
    "    # The number of valid paths for an adapter is the sum of the three voltages it can connect to\n",
    "    adapter_dict[adapter] = adapter_dict[adapter-1] + adapter_dict[adapter-2] + adapter_dict[adapter-3]"
   ]
  },
  {
   "cell_type": "code",
   "execution_count": 63,
   "metadata": {},
   "outputs": [
    {
     "data": {
      "text/plain": [
       "3454189699072"
      ]
     },
     "execution_count": 63,
     "metadata": {},
     "output_type": "execute_result"
    }
   ],
   "source": [
    "# Get the number of paths that can get to the last adapter\n",
    "adapter_dict[adapters[-1]]"
   ]
  },
  {
   "cell_type": "code",
   "execution_count": null,
   "metadata": {},
   "outputs": [],
   "source": []
  }
 ],
 "metadata": {
  "kernelspec": {
   "display_name": "Python 3.9",
   "language": "python",
   "name": "py39"
  },
  "language_info": {
   "codemirror_mode": {
    "name": "ipython",
    "version": 3
   },
   "file_extension": ".py",
   "mimetype": "text/x-python",
   "name": "python",
   "nbconvert_exporter": "python",
   "pygments_lexer": "ipython3",
   "version": "3.9.0"
  }
 },
 "nbformat": 4,
 "nbformat_minor": 4
}

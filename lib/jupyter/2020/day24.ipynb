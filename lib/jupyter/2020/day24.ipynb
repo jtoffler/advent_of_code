{
 "cells": [
  {
   "cell_type": "markdown",
   "metadata": {},
   "source": [
    "### Puzzle"
   ]
  },
  {
   "cell_type": "markdown",
   "metadata": {},
   "source": [
    "https://adventofcode.com/2020/day/24"
   ]
  },
  {
   "cell_type": "markdown",
   "metadata": {},
   "source": [
    "### Load Inputs"
   ]
  },
  {
   "cell_type": "code",
   "execution_count": 101,
   "metadata": {},
   "outputs": [],
   "source": [
    "# Store the location of the input directory\n",
    "data_dir = '../../../data/2020'\n",
    "\n",
    "# Open the input and store a list of each item as an int\n",
    "with open(f\"{data_dir}/day24_input.txt\") as f:\n",
    "    inputs = f.read().splitlines()"
   ]
  },
  {
   "cell_type": "markdown",
   "metadata": {},
   "source": [
    "### Part 1"
   ]
  },
  {
   "cell_type": "code",
   "execution_count": 102,
   "metadata": {},
   "outputs": [],
   "source": [
    "# Every direction ends with e or w so use ' ' as a delimiter after that character is seen\n",
    "instructions = [direction.replace('e', 'e ').replace('w', 'w ') for direction in inputs]"
   ]
  },
  {
   "cell_type": "code",
   "execution_count": 103,
   "metadata": {},
   "outputs": [],
   "source": [
    "# Initialize a dictionary to store how many times each tile has been flipped\n",
    "hex_dict = dict()"
   ]
  },
  {
   "cell_type": "code",
   "execution_count": 104,
   "metadata": {},
   "outputs": [],
   "source": [
    "# Go through all of the instructions and get the target tile\n",
    "for instruction in instructions:\n",
    "    reference_tile = [0, 0]\n",
    "    \n",
    "    directions = instruction.strip().split(' ')\n",
    "    \n",
    "    for direction in directions:\n",
    "        if direction == 'e':\n",
    "            reference_tile[0] += 2\n",
    "        elif direction == 'w':\n",
    "            reference_tile[0] -= 2\n",
    "        elif direction == 'ne':\n",
    "            reference_tile[0] += 1\n",
    "            reference_tile[1] += 1\n",
    "        elif direction == 'nw':\n",
    "            reference_tile[0] -= 1\n",
    "            reference_tile[1] += 1\n",
    "        elif direction == 'se':\n",
    "            reference_tile[0] += 1\n",
    "            reference_tile[1] -= 1\n",
    "        elif direction == 'sw':\n",
    "            reference_tile[0] -= 1\n",
    "            reference_tile[1] -= 1\n",
    "    \n",
    "    # Set the target tile\n",
    "    key = f\"{reference_tile[0]},{reference_tile[1]}\"\n",
    "    \n",
    "    # If the target tile has not been seen yet, add it to the dictionary and set its flips to 1\n",
    "    if key not in hex_dict.keys():\n",
    "        hex_dict[key] = 1\n",
    "    # Otherwise, flip it again\n",
    "    else:\n",
    "        hex_dict[key] += 1"
   ]
  },
  {
   "cell_type": "code",
   "execution_count": 105,
   "metadata": {},
   "outputs": [
    {
     "data": {
      "text/plain": [
       "450"
      ]
     },
     "execution_count": 105,
     "metadata": {},
     "output_type": "execute_result"
    }
   ],
   "source": [
    "sum([tile_flips % 2 == 1 for tile_flips in list(hex_dict.values())])"
   ]
  },
  {
   "cell_type": "markdown",
   "metadata": {},
   "source": [
    "### Part 2"
   ]
  },
  {
   "cell_type": "code",
   "execution_count": 106,
   "metadata": {},
   "outputs": [],
   "source": [
    "# Repeat this process for 100 days\n",
    "for i in range(100):\n",
    "\n",
    "    # Initialize a dictionary to store how many neighboring tiles are black\n",
    "    neighboring_black_tiles = dict()\n",
    "\n",
    "    # Check every black tile\n",
    "    for key, value in hex_dict.items():\n",
    "        if value % 2 == 1:\n",
    "            tile = [int(coordinate) for coordinate in key.split(',')]\n",
    "\n",
    "            # Get the coordinates of every neighbor of every black tile\n",
    "            for neighbor in [[1, 1], [2, 0], [1, -1], [-1, -1], [-2, 0], [-1, 1]]:\n",
    "                neighbor_tile = [tile[0] + neighbor[0], tile[1] + neighbor[1]]\n",
    "\n",
    "                neighbor_key = f\"{neighbor_tile[0]},{neighbor_tile[1]}\"\n",
    "\n",
    "                # If this neighbor has already been seen, add 1 to the counter; otherwise initliaze with 1 black neighbor\n",
    "                if neighbor_key not in neighboring_black_tiles.keys():\n",
    "                    neighboring_black_tiles[neighbor_key] = 1\n",
    "                else:\n",
    "                    neighboring_black_tiles[neighbor_key] += 1\n",
    "\n",
    "    # Initialize a new dictionary to store the coordinates for today's tiles\n",
    "    new_hex_dict = dict()\n",
    "\n",
    "    # Go through all tiles that have at least one black neighbor\n",
    "    for key, value in neighboring_black_tiles.items():\n",
    "\n",
    "        # If this tile is already in the dictionary, check to see if it's black or white\n",
    "        if key in hex_dict.keys():\n",
    "\n",
    "            # If it's black, it remains black if 1 or 2 neighboring tiles are black\n",
    "            if hex_dict[key] % 2 == 1:\n",
    "                if neighboring_black_tiles[key] == 1 or neighboring_black_tiles[key] == 2:\n",
    "                    new_hex_dict[key] = 1\n",
    "                else:\n",
    "                    new_hex_dict[key] = 0\n",
    "\n",
    "            # If it's white, it flips to black if exactly 2 neighboring tiles are black\n",
    "            else:\n",
    "                if neighboring_black_tiles[key] == 2:\n",
    "                    new_hex_dict[key] = 1\n",
    "                else:\n",
    "                    new_hex_dict[key] = 0\n",
    "\n",
    "        # If this tile is not already in the dictionary, it started as white so it needs 2 black neighbors to flip\n",
    "        else:\n",
    "            if neighboring_black_tiles[key] == 2:\n",
    "                new_hex_dict[key] = 1\n",
    "            else:\n",
    "                new_hex_dict[key] = 0\n",
    "\n",
    "    hex_dict = new_hex_dict"
   ]
  },
  {
   "cell_type": "code",
   "execution_count": 107,
   "metadata": {},
   "outputs": [
    {
     "data": {
      "text/plain": [
       "4059"
      ]
     },
     "execution_count": 107,
     "metadata": {},
     "output_type": "execute_result"
    }
   ],
   "source": [
    "sum([tile_flips % 2 == 1 for tile_flips in list(hex_dict.values())])"
   ]
  },
  {
   "cell_type": "code",
   "execution_count": null,
   "metadata": {},
   "outputs": [],
   "source": []
  }
 ],
 "metadata": {
  "kernelspec": {
   "display_name": "Python 3.9",
   "language": "python",
   "name": "py39"
  },
  "language_info": {
   "codemirror_mode": {
    "name": "ipython",
    "version": 3
   },
   "file_extension": ".py",
   "mimetype": "text/x-python",
   "name": "python",
   "nbconvert_exporter": "python",
   "pygments_lexer": "ipython3",
   "version": "3.9.0"
  }
 },
 "nbformat": 4,
 "nbformat_minor": 4
}

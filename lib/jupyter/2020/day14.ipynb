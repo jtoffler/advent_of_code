{
 "cells": [
  {
   "cell_type": "markdown",
   "metadata": {},
   "source": [
    "### Puzzle"
   ]
  },
  {
   "cell_type": "markdown",
   "metadata": {},
   "source": [
    "https://adventofcode.com/2020/day/14"
   ]
  },
  {
   "cell_type": "markdown",
   "metadata": {},
   "source": [
    "### Imports"
   ]
  },
  {
   "cell_type": "code",
   "execution_count": 32,
   "metadata": {},
   "outputs": [],
   "source": [
    "from itertools import product"
   ]
  },
  {
   "cell_type": "markdown",
   "metadata": {},
   "source": [
    "### Load Input"
   ]
  },
  {
   "cell_type": "code",
   "execution_count": 33,
   "metadata": {},
   "outputs": [],
   "source": [
    "# Store the location of the input directory\n",
    "data_dir = '../../../data/2020'\n",
    "\n",
    "# Open the input and store a list of each item as an int\n",
    "with open(f\"{data_dir}/day14_input.txt\") as f:\n",
    "    inputs = f.read().splitlines()"
   ]
  },
  {
   "cell_type": "markdown",
   "metadata": {},
   "source": [
    "### Helper Functions"
   ]
  },
  {
   "cell_type": "code",
   "execution_count": 34,
   "metadata": {},
   "outputs": [],
   "source": [
    "def decimal_to_binary(decimal_integer):\n",
    "    # Initialize empty string\n",
    "    binary_string = ''\n",
    "    \n",
    "    # Loop through all 36 possible digits\n",
    "    for i in range(36):\n",
    "        \n",
    "        # If the decimal number is greater than that digit in binary, add a 1 to that bit and subtract that binary value\n",
    "        if decimal_integer >= 2**(35-i):\n",
    "            binary_string += '1'\n",
    "            decimal_integer -= 2**(35-i)\n",
    "        \n",
    "        # Otherwise input a 0 into that bit\n",
    "        else:\n",
    "            binary_string += '0'\n",
    "            \n",
    "    return binary_string"
   ]
  },
  {
   "cell_type": "code",
   "execution_count": 35,
   "metadata": {},
   "outputs": [],
   "source": [
    "def binary_to_decimal(binary_string):\n",
    "    # Convert a binary string to a decimal integer\n",
    "    decimal_integer = int(binary_string, 2)\n",
    "        \n",
    "    return decimal_integer"
   ]
  },
  {
   "cell_type": "markdown",
   "metadata": {},
   "source": [
    "### Part 1"
   ]
  },
  {
   "cell_type": "code",
   "execution_count": 36,
   "metadata": {},
   "outputs": [],
   "source": [
    "def masked_bit(mask, bit):\n",
    "    # Convert the decimal value to binary and initialize an empty string\n",
    "    binary_bit = decimal_to_binary(bit)\n",
    "    masked_bit = ''\n",
    "    \n",
    "    # Loop through each bit in the mask\n",
    "    for i in range(len(mask)):\n",
    "        # If there's an X in the mask, keep the binary bit\n",
    "        if mask[i] == 'X':\n",
    "            masked_bit += binary_bit[i]\n",
    "        \n",
    "        # Otherwise, input the mask value for that bit\n",
    "        else:\n",
    "            masked_bit += mask[i]\n",
    "    \n",
    "    # Convert the new binary bit back to a decimal\n",
    "    decimal_bit = binary_to_decimal(masked_bit)\n",
    "    \n",
    "    return decimal_bit"
   ]
  },
  {
   "cell_type": "code",
   "execution_count": 50,
   "metadata": {},
   "outputs": [],
   "source": [
    "# Initialize a dictionary\n",
    "mem = dict()\n",
    "\n",
    "# Go through the input line by line\n",
    "for line in inputs:\n",
    "    \n",
    "    # If the line is a new mask, store the mask\n",
    "    if line.startswith('mask'):\n",
    "        mask = line.split(' ')[-1]\n",
    "\n",
    "    # If the line is a dictionary entry, store the key, value, and run the masked_bitv2 function\n",
    "    else:\n",
    "        key = int(line.split('[')[1].split(']')[0])\n",
    "        value = int(line.split(' ')[-1])\n",
    "        mem[key] = masked_bit(mask, value) "
   ]
  },
  {
   "cell_type": "code",
   "execution_count": 51,
   "metadata": {},
   "outputs": [
    {
     "name": "stdout",
     "output_type": "stream",
     "text": [
      "9615006043476\n"
     ]
    }
   ],
   "source": [
    "sum(mem.values())"
   ]
  },
  {
   "cell_type": "markdown",
   "metadata": {},
   "source": [
    "### Part 2"
   ]
  },
  {
   "cell_type": "code",
   "execution_count": 37,
   "metadata": {},
   "outputs": [],
   "source": [
    "def masked_bitv2(mem_dict, mask, key, bit):\n",
    "    # Initialize an empty list to store keys that will be changed\n",
    "    keys_to_change = []\n",
    "    \n",
    "    # Convert the decimal key to binary and initialize an empty string\n",
    "    binary_key = decimal_to_binary(key)\n",
    "    masked_bit = ''\n",
    "    \n",
    "    # Initialize an empty list to store indices where there is an 'X'\n",
    "    X_indices = []\n",
    "    \n",
    "    # Loop through all bits in the binary key\n",
    "    for i in range(len(mask)):\n",
    "        # If the bit is 0, insert the value of the binary key to the mask\n",
    "        if mask[i] == '0':\n",
    "            masked_bit += binary_key[i]\n",
    "        # If the bit is 1, insert 1 \n",
    "        elif mask[i] == '1':\n",
    "            masked_bit += '1'\n",
    "        # If the bit is X, insert X and add that index to the list of indices\n",
    "        else:\n",
    "            masked_bit += 'X'\n",
    "            X_indices.append(i)\n",
    "            \n",
    "    # Count the number of X's\n",
    "    n_X = len(X_indices)\n",
    "    \n",
    "    # If there are no X's, add the masked bit to the list of keys to change\n",
    "    if n_X == 0:\n",
    "        keys_to_change.append(binary_to_decimal(masked_bit))\n",
    "        \n",
    "    # If there is more than one X, add all permutations (Cartesian products) to the list of keys to change\n",
    "    else:\n",
    "        # Separate the string into a list of characters\n",
    "        masked_bit_list = list(masked_bit)\n",
    "        \n",
    "        # Get all Cartesian products of 1 and 0 for the appropriate number of X's\n",
    "        prod = product(range(2), repeat=n_X)\n",
    "        \n",
    "        # For each product, insert the appropriate bit into the masked bit\n",
    "        for j in list(prod):\n",
    "            for k in range(len(X_indices)):\n",
    "                masked_bit_list[X_indices[k]] = f'{j[k]}'\n",
    "            keys_to_change.append(binary_to_decimal(''.join(masked_bit_list)))\n",
    "                \n",
    "    # Change all keys to the correct bit\n",
    "    for key in keys_to_change:\n",
    "        mem_dict[key] = bit\n",
    "    \n",
    "    return mem_dict"
   ]
  },
  {
   "cell_type": "code",
   "execution_count": 39,
   "metadata": {},
   "outputs": [],
   "source": [
    "# Initialize a dictionary\n",
    "mem = dict()\n",
    "\n",
    "# Go through the input line by line\n",
    "for line in inputs:\n",
    "    \n",
    "    # If the line is a new mask, store the mask\n",
    "    if line.startswith('mask'):\n",
    "        mask = line.split(' ')[-1]\n",
    "        \n",
    "    # If the line is a dictionary entry, store the key, value, and run the masked_bitv2 function\n",
    "    else:\n",
    "        key = int(line.split('[')[1].split(']')[0])\n",
    "        value = int(line.split(' ')[-1])\n",
    "        mem = masked_bitv2(mem, mask, key, value)"
   ]
  },
  {
   "cell_type": "code",
   "execution_count": 41,
   "metadata": {},
   "outputs": [
    {
     "name": "stdout",
     "output_type": "stream",
     "text": [
      "4275496544925\n"
     ]
    }
   ],
   "source": [
    "sum(mem.values())"
   ]
  },
  {
   "cell_type": "code",
   "execution_count": null,
   "metadata": {},
   "outputs": [],
   "source": []
  }
 ],
 "metadata": {
  "kernelspec": {
   "display_name": "Python 3.4",
   "language": "python",
   "name": "python3"
  },
  "language_info": {
   "codemirror_mode": {
    "name": "ipython",
    "version": 3
   },
   "file_extension": ".py",
   "mimetype": "text/x-python",
   "name": "python",
   "nbconvert_exporter": "python",
   "pygments_lexer": "ipython3",
   "version": "3.9.0"
  }
 },
 "nbformat": 4,
 "nbformat_minor": 2
}

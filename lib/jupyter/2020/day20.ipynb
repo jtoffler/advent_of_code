{
 "cells": [
  {
   "cell_type": "markdown",
   "metadata": {},
   "source": [
    "### Puzzle"
   ]
  },
  {
   "cell_type": "markdown",
   "metadata": {},
   "source": [
    "https://adventofcode.com/2020/day/20"
   ]
  },
  {
   "cell_type": "markdown",
   "metadata": {},
   "source": [
    "### Imports"
   ]
  },
  {
   "cell_type": "code",
   "execution_count": 20,
   "metadata": {},
   "outputs": [],
   "source": [
    "import re"
   ]
  },
  {
   "cell_type": "markdown",
   "metadata": {},
   "source": [
    "### Load Input"
   ]
  },
  {
   "cell_type": "code",
   "execution_count": 1,
   "metadata": {},
   "outputs": [],
   "source": [
    "# Store the location of the input directory\n",
    "data_dir = '../../../data/2020'\n",
    "\n",
    "# Open the input and store a list of each item as an int\n",
    "with open(f\"{data_dir}/day20_input.txt\") as f:\n",
    "    inputs = f.read().splitlines()"
   ]
  },
  {
   "cell_type": "markdown",
   "metadata": {},
   "source": [
    "### Part 1"
   ]
  },
  {
   "cell_type": "code",
   "execution_count": 2,
   "metadata": {},
   "outputs": [],
   "source": [
    "# Initialize a dictionary to store tile numbers and images\n",
    "tiles_dict = dict()\n",
    "edges_dict = dict()"
   ]
  },
  {
   "cell_type": "code",
   "execution_count": 3,
   "metadata": {},
   "outputs": [],
   "source": [
    "def process_tile(tile, tiles_dict, edges_dict):\n",
    "    # Split the tile into the tile number and the edges\n",
    "    tile_number = int(tile[0].split(' ')[1].split(':')[0])\n",
    "    tile_image = tile[1:]\n",
    "    \n",
    "    # For each tile, we will store the edges and the entire image\n",
    "    tiles_dict[tile_number] = dict()\n",
    "    \n",
    "    # Get the edges starting from the top moving clockwise\n",
    "    north_edge = tile_image[0]\n",
    "    east_edge = ''.join([pixel[-1] for pixel in tile_image])\n",
    "    south_edge = tile_image[-1][::-1]\n",
    "    west_edge = ''.join([pixel[0] for pixel in tile_image][::-1])\n",
    "    \n",
    "    # Store the edges as a list with the north edges first going counter-clockwise around the image\n",
    "    edge_list = [south_edge, west_edge, north_edge, east_edge]\n",
    "    \n",
    "    # Store the edges in their own dictionary and which tiles have those edges\n",
    "    for edge in edge_list:\n",
    "        edge_flipped = edge[::-1]\n",
    "        if edge in edges_dict.keys():\n",
    "            edges_dict[edge].append(tile_number)\n",
    "        \n",
    "        elif edge_flipped in edges_dict.keys():\n",
    "            # If the edge has been seen already but flipped, flip the entire image and store          \n",
    "            edges_dict[edge_flipped].append(tile_number)\n",
    "        \n",
    "        else:\n",
    "            edges_dict[edge] = [tile_number]\n",
    "            \n",
    "    # Store both the edge list and the entire image\n",
    "    tiles_dict[tile_number]['edges'] = edge_list\n",
    "    tiles_dict[tile_number]['image'] = tile_image\n",
    "            \n",
    "    return tiles_dict, edges_dict"
   ]
  },
  {
   "cell_type": "code",
   "execution_count": 4,
   "metadata": {},
   "outputs": [],
   "source": [
    "tiles_remaining = inputs\n",
    "\n",
    "# Add all tiles into the dictionary\n",
    "while tiles_remaining.count('') > 0:\n",
    "    # Get the next tile from the tiles remaining\n",
    "    tile = tiles_remaining[:tiles_remaining.index('')]\n",
    "    \n",
    "    # Add that tile and its edges to the appropriate dictionaries\n",
    "    tiles_dict, edges_dict = process_tile(tile, tiles_dict, edges_dict)\n",
    "\n",
    "    # Remove the most recent tile from the tiles remaining\n",
    "    tiles_remaining = tiles_remaining[tiles_remaining.index('')+1:]\n",
    "    \n",
    "# Add the last tile into the dictionary \n",
    "tile = tiles_remaining\n",
    "tiles_dict, edges_dict = process_tile(tile, tiles_dict, edges_dict)"
   ]
  },
  {
   "cell_type": "code",
   "execution_count": 5,
   "metadata": {},
   "outputs": [],
   "source": [
    "# Initialize an empty list to store the corner tiles\n",
    "corners = []\n",
    "\n",
    "# Check every edge on every tile\n",
    "for tile_number in tiles_dict.keys():\n",
    "    # Initialize the number of edges that don't share a border with another image\n",
    "    naked_edges = 0\n",
    "    \n",
    "    # Get just the edges from the tile dictionary\n",
    "    edge_list = tiles_dict[tile_number]['edges']\n",
    "    \n",
    "    # Check the number of naked edges for all edges and flipped edges\n",
    "    for edge in edge_list:\n",
    "        if edge not in edges_dict.keys():\n",
    "            edge = edge[::-1]\n",
    "        if len(edges_dict[edge]) == 1:\n",
    "            naked_edges += 1\n",
    "    \n",
    "    # Corner pictures will have 2 naked edges\n",
    "    if naked_edges == 2:\n",
    "        corners.append(tile_number)"
   ]
  },
  {
   "cell_type": "code",
   "execution_count": 6,
   "metadata": {},
   "outputs": [],
   "source": [
    "# Multiply the corners together to get the final product\n",
    "product = 1\n",
    "for corner in corners:\n",
    "    product *= corner"
   ]
  },
  {
   "cell_type": "code",
   "execution_count": 7,
   "metadata": {},
   "outputs": [
    {
     "data": {
      "text/plain": [
       "174206308298779"
      ]
     },
     "execution_count": 7,
     "metadata": {},
     "output_type": "execute_result"
    }
   ],
   "source": [
    "product"
   ]
  },
  {
   "cell_type": "markdown",
   "metadata": {},
   "source": [
    "### Part 2 Helper Functions"
   ]
  },
  {
   "cell_type": "code",
   "execution_count": 8,
   "metadata": {},
   "outputs": [],
   "source": [
    "def flip_image(image):\n",
    "    # Flip an image\n",
    "    flipped_image = [row[::-1] for row in image]\n",
    "    return flipped_image"
   ]
  },
  {
   "cell_type": "code",
   "execution_count": 9,
   "metadata": {},
   "outputs": [],
   "source": [
    "def rotate_image_clockwise90(image):\n",
    "    # Rotate an image 90 degrees counterclockwise\n",
    "    new_image = []\n",
    "    for i in range(len(image[0])):\n",
    "        next_row = ''.join([row[i] for row in image])[::-1]\n",
    "        new_image.append(next_row)\n",
    "    return new_image        "
   ]
  },
  {
   "cell_type": "code",
   "execution_count": 10,
   "metadata": {},
   "outputs": [],
   "source": [
    "def rotate_image(image, n_clockwise_rotations):\n",
    "    # Rotate an image to the desired orientation\n",
    "    for i in range(n_clockwise_rotations):\n",
    "        image = rotate_image_clockwise90(image)\n",
    "    return image"
   ]
  },
  {
   "cell_type": "code",
   "execution_count": 11,
   "metadata": {},
   "outputs": [],
   "source": [
    "def remove_border(tile):\n",
    "    # Remove the border around an image\n",
    "    tile_borderless = []\n",
    "    for row_index in range(1, len(tile)-1):\n",
    "        tile_borderless.append(tile[row_index][1:len(tile[row_index])-1])\n",
    "    return tile_borderless"
   ]
  },
  {
   "cell_type": "markdown",
   "metadata": {},
   "source": [
    "### Part 2"
   ]
  },
  {
   "cell_type": "code",
   "execution_count": 12,
   "metadata": {},
   "outputs": [],
   "source": [
    "# Initialize a list of lists to store a grid of the big picture\n",
    "big_image = []\n",
    "# Initialize a list to store each row\n",
    "big_image_row = []\n",
    "# Store which tiles are already in the big image\n",
    "used_tiles = []\n",
    "\n",
    "# Arbitrarily choose one of the corners to be the top-left corner\n",
    "top_left_corner = corners[0]\n",
    "\n",
    "# Rotate it so that the north edge and west edge are naked edges\n",
    "image = tiles_dict[top_left_corner]['image']\n",
    "\n",
    "# The north and west edges of the top left corner must be the naked ones\n",
    "naked_edges = [len(edges_dict[edge]) for edge in tiles_dict[top_left_corner]['edges']]\n",
    "\n",
    "# Find the index of the second naked edge and rotate the image that many times\n",
    "rotations_needed = [index for index, edges in enumerate(naked_edges) if edges == 1][1]\n",
    "image = rotate_image(image, rotations_needed)\n",
    "\n",
    "# Add the image to the top row and store that tile number as a used tile\n",
    "big_image_row.append(image)\n",
    "used_tiles.append(top_left_corner)\n",
    "\n",
    "# Find the other image with this east edge \n",
    "next_east_edge = ''.join([row[-1] for row in image])\n",
    "next_east_edge_flipped = next_east_edge[::-1]\n",
    "\n",
    "if next_east_edge in edges_dict.keys():\n",
    "    next_tiles = [tile for tile in edges_dict[next_east_edge] if tile not in used_tiles]\n",
    "else:\n",
    "    next_tiles = [tile for tile in edges_dict[next_east_edge_flipped] if tile not in used_tiles]"
   ]
  },
  {
   "cell_type": "code",
   "execution_count": 13,
   "metadata": {},
   "outputs": [],
   "source": [
    "# If there are no more unused tiles with that edge, we have reached the end of the row\n",
    "while len(next_tiles) > 0:\n",
    "    \n",
    "    # If there are still unused tiles with that edge, the next tile must fit in the next spot\n",
    "    next_tile = next_tiles[0]\n",
    "\n",
    "    # Rotate the tile so that the east edge of the previous tile faces east on this tile and then flip it\n",
    "    if next_east_edge in tiles_dict[next_tile]['edges']:\n",
    "        rotations_needed = 4 - tiles_dict[next_tile]['edges'].index(next_east_edge) - 1\n",
    "        image = flip_image(rotate_image(tiles_dict[next_tile]['image'], rotations_needed))\n",
    "\n",
    "    else:\n",
    "        flipped_image = flip_image(tiles_dict[next_tile]['image'])\n",
    "        if next_east_edge == ''.join([pixel[-1] for pixel in flipped_image]):\n",
    "            rotations_needed = 0\n",
    "        elif next_east_edge == flipped_image[0]:\n",
    "            rotations_needed = 1\n",
    "        elif next_east_edge == ''.join([pixel[0] for pixel in flipped_image][::-1]):\n",
    "            rotations_needed = 2\n",
    "        else:\n",
    "            rotations_needed = 3\n",
    "        image = flip_image(rotate_image(flipped_image, rotations_needed))\n",
    "        \n",
    "    # Add the correctly-oriented image to the row and add the tile to the list of used tiles\n",
    "    big_image_row.append(image)\n",
    "    used_tiles.append(next_tile)\n",
    "    \n",
    "    # Find the other image with this east edge \n",
    "    next_east_edge = ''.join([row[-1] for row in image])\n",
    "    next_east_edge_flipped = next_east_edge[::-1]\n",
    "    \n",
    "    # Get the next east edge\n",
    "    if next_east_edge in edges_dict.keys():\n",
    "        next_tiles = [tile for tile in edges_dict[next_east_edge] if tile not in used_tiles]\n",
    "    else:\n",
    "        next_tiles = [tile for tile in edges_dict[next_east_edge_flipped] if tile not in used_tiles]\n",
    "\n",
    "big_image.append(big_image_row)"
   ]
  },
  {
   "cell_type": "code",
   "execution_count": 14,
   "metadata": {},
   "outputs": [],
   "source": [
    "# Now get all of the south edges from the row above and find the tile with the corresponding north edge\n",
    "while len(used_tiles) < len(tiles_dict.keys()):\n",
    "    \n",
    "    # Initialize a new row\n",
    "    big_image_row = []\n",
    "    \n",
    "    # Grab the row above\n",
    "    row_above = big_image[-1]\n",
    "    \n",
    "    # Get the south edge of each tile\n",
    "    for tile in row_above:\n",
    "        south_edge = tile[-1][::-1]\n",
    "        south_edge_flipped = south_edge[::-1]\n",
    "        \n",
    "        # Find the tile with the corresponding edge\n",
    "        if south_edge in edges_dict.keys():\n",
    "            next_tile = [tile for tile in edges_dict[south_edge] if tile not in used_tiles][0]\n",
    "        else:\n",
    "            next_tile = [tile for tile in edges_dict[south_edge_flipped] if tile not in used_tiles][0]\n",
    "           \n",
    "        # Rotate the tile so that the corresponding edge faces north to match the tile above it\n",
    "        if south_edge in tiles_dict[next_tile]['edges']:\n",
    "            rotations_needed = 4 - tiles_dict[next_tile]['edges'].index(south_edge)\n",
    "            image_upside_down = flip_image(rotate_image(tiles_dict[next_tile]['image'], rotations_needed))\n",
    "            image = rotate_image(image_upside_down, 2)\n",
    "\n",
    "        else:\n",
    "            flipped_image = flip_image(tiles_dict[next_tile]['image'])\n",
    "            if south_edge == ''.join([pixel[-1] for pixel in flipped_image]):\n",
    "                rotations_needed = 1\n",
    "            elif south_edge == flipped_image[0]:\n",
    "                rotations_needed = 2\n",
    "            elif south_edge == ''.join([pixel[0] for pixel in flipped_image][::-1]):\n",
    "                rotations_needed = 3\n",
    "            else:\n",
    "                rotations_needed = 0\n",
    "            image_upside_down = flip_image(rotate_image(flipped_image, rotations_needed))\n",
    "            image = rotate_image(image_upside_down, 2)\n",
    "\n",
    "        # Add the correctly-oriented image to the row and add the tile to the list of used tiles\n",
    "        big_image_row.append(image)\n",
    "        used_tiles.append(next_tile)\n",
    "    \n",
    "    # Add the row of tiles to the big image\n",
    "    big_image.append(big_image_row)"
   ]
  },
  {
   "cell_type": "code",
   "execution_count": 15,
   "metadata": {},
   "outputs": [],
   "source": [
    "# Remove border\n",
    "big_image_borderless = [[remove_border(tile) for tile in big_image_row] for big_image_row in big_image]"
   ]
  },
  {
   "cell_type": "code",
   "execution_count": 16,
   "metadata": {},
   "outputs": [],
   "source": [
    "# Push all of the images together to form a single list of strings\n",
    "big_image_joined = []\n",
    "for row in big_image_borderless:\n",
    "    big_image_joined.append([''.join([tile[i] for tile in row]) for i in range(len(row[0]))])\n",
    "\n",
    "big_image = [row for image_row in big_image_joined for row in image_row]"
   ]
  },
  {
   "cell_type": "code",
   "execution_count": 54,
   "metadata": {},
   "outputs": [
    {
     "name": "stdout",
     "output_type": "stream",
     "text": [
      "0 flips, 0 rotations: 29 sea monsters\n",
      "0 flips, 1 rotations: 0 sea monsters\n",
      "0 flips, 2 rotations: 0 sea monsters\n",
      "0 flips, 3 rotations: 0 sea monsters\n",
      "1 flips, 0 rotations: 0 sea monsters\n",
      "1 flips, 1 rotations: 0 sea monsters\n",
      "1 flips, 2 rotations: 0 sea monsters\n",
      "1 flips, 3 rotations: 0 sea monsters\n"
     ]
    }
   ],
   "source": [
    "# Create a regex to find all sea monsters\n",
    "sea_monster = '(#){1}(.){77}#{1}(.){4}(#){2}(.){4}(#){2}(.){4}(#){3}(.){77}(#){1}(.){2}(#){1}(.){2}(#){1}(.){2}(#){1}(.){2}(#){1}(.){2}(#){1}'\n",
    "\n",
    "# Try flipping and rotating the image\n",
    "for i in range(2):\n",
    "    for j in range(4):\n",
    "        big_image_copy = big_image.copy()\n",
    "        \n",
    "        if i == 1:\n",
    "            big_image_flipped = flip_image(big_image_copy)\n",
    "        else:\n",
    "            big_image_flipped = big_image_copy\n",
    "            \n",
    "        big_image_flipped_rotated = rotate_image(big_image_flipped, j)\n",
    "        \n",
    "        # Turn the list of strings into a single string\n",
    "        sea = ''.join(big_image_flipped_rotated)\n",
    "\n",
    "        # Check the string for all sea monsters\n",
    "        matches = re.finditer(f\"(?=({sea_monster}))\", sea)\n",
    "        results = [match.group(1) for match in matches]\n",
    "        print(f\"{i} flips, {j} rotations: {len(results)} sea monsters\")"
   ]
  },
  {
   "cell_type": "code",
   "execution_count": 55,
   "metadata": {},
   "outputs": [],
   "source": [
    "# Manually input the correct number of sea monsters from the output above and count the remaining chop\n",
    "total_chop = sea.count('#')\n",
    "non_sea_monster_chop = total_chop - 29*15"
   ]
  },
  {
   "cell_type": "code",
   "execution_count": 56,
   "metadata": {},
   "outputs": [
    {
     "data": {
      "text/plain": [
       "2409"
      ]
     },
     "execution_count": 56,
     "metadata": {},
     "output_type": "execute_result"
    }
   ],
   "source": [
    "non_sea_monster_chop"
   ]
  },
  {
   "cell_type": "code",
   "execution_count": null,
   "metadata": {},
   "outputs": [],
   "source": []
  }
 ],
 "metadata": {
  "kernelspec": {
   "display_name": "Python 3.9",
   "language": "python",
   "name": "py39"
  },
  "language_info": {
   "codemirror_mode": {
    "name": "ipython",
    "version": 3
   },
   "file_extension": ".py",
   "mimetype": "text/x-python",
   "name": "python",
   "nbconvert_exporter": "python",
   "pygments_lexer": "ipython3",
   "version": "3.9.0"
  }
 },
 "nbformat": 4,
 "nbformat_minor": 4
}

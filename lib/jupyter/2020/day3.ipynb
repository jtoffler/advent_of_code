{
 "cells": [
  {
   "cell_type": "markdown",
   "metadata": {},
   "source": [
    "### Puzzle"
   ]
  },
  {
   "cell_type": "markdown",
   "metadata": {},
   "source": [
    "https://adventofcode.com/2020/day/3"
   ]
  },
  {
   "cell_type": "markdown",
   "metadata": {},
   "source": [
    "### Load Input"
   ]
  },
  {
   "cell_type": "code",
   "execution_count": 40,
   "metadata": {},
   "outputs": [],
   "source": [
    "# Store the location of the input directory\n",
    "data_dir = '../../../data/2020'\n",
    "\n",
    "# Open the input\n",
    "with open(f\"{data_dir}/day3_input.txt\") as f:\n",
    "    inputs = f.read().splitlines()\n",
    "    \n",
    "mountain = inputs"
   ]
  },
  {
   "cell_type": "markdown",
   "metadata": {},
   "source": [
    "### Part 1"
   ]
  },
  {
   "cell_type": "code",
   "execution_count": 49,
   "metadata": {},
   "outputs": [],
   "source": [
    "def count_trees_hit(mountain, start_line, start_column, right_jump, down_jump):\n",
    "    # Initialize a counter to count the number of trees hit\n",
    "    trees_hit = 0\n",
    "    \n",
    "    # Initialize the top left corner of the mountain as the starting point\n",
    "    line = start_line\n",
    "    column = start_column\n",
    "    \n",
    "    # Traverse down the mountain\n",
    "    while line < len(mountain):\n",
    "        \n",
    "        # Check if the next spot on the mountain is a tree\n",
    "        if mountain[line][column%len(mountain[line])] == '#':\n",
    "            trees_hit += 1\n",
    "\n",
    "        # Go down to the next location on the mountain\n",
    "        line += down_jump\n",
    "        column += right_jump\n",
    "        \n",
    "    return trees_hit"
   ]
  },
  {
   "cell_type": "code",
   "execution_count": 50,
   "metadata": {},
   "outputs": [
    {
     "data": {
      "text/plain": [
       "252"
      ]
     },
     "execution_count": 50,
     "metadata": {},
     "output_type": "execute_result"
    }
   ],
   "source": [
    "count_trees_hit(mountain, 0, 0, 3, 1)"
   ]
  },
  {
   "cell_type": "markdown",
   "metadata": {},
   "source": [
    "### Part 2"
   ]
  },
  {
   "cell_type": "markdown",
   "metadata": {},
   "source": [
    "Right 1, down 1.  \n",
    "Right 3, down 1. (This is the slope you already checked.)  \n",
    "Right 5, down 1.  \n",
    "Right 7, down 1.  \n",
    "Right 1, down 2.  "
   ]
  },
  {
   "cell_type": "code",
   "execution_count": 54,
   "metadata": {},
   "outputs": [],
   "source": [
    "# Create a list storing the slopes down the mountain\n",
    "slopes = [[1, 1], [3, 1], [5, 1], [7, 1], [1, 2]]\n",
    "\n",
    "# Initialize a product at 1\n",
    "product = 1\n",
    "\n",
    "# For each slope, count the number of trees hit and multiply that number by the current running product\n",
    "for slope in slopes:\n",
    "    trees_hit = count_trees_hit(mountain, 0, 0, slope[0], slope[1])\n",
    "    product *= trees_hit"
   ]
  },
  {
   "cell_type": "code",
   "execution_count": 55,
   "metadata": {},
   "outputs": [
    {
     "data": {
      "text/plain": [
       "2608962048"
      ]
     },
     "execution_count": 55,
     "metadata": {},
     "output_type": "execute_result"
    }
   ],
   "source": [
    "product"
   ]
  },
  {
   "cell_type": "code",
   "execution_count": null,
   "metadata": {},
   "outputs": [],
   "source": []
  }
 ],
 "metadata": {
  "kernelspec": {
   "display_name": "Python 3.9",
   "language": "python",
   "name": "py39"
  },
  "language_info": {
   "codemirror_mode": {
    "name": "ipython",
    "version": 3
   },
   "file_extension": ".py",
   "mimetype": "text/x-python",
   "name": "python",
   "nbconvert_exporter": "python",
   "pygments_lexer": "ipython3",
   "version": "3.9.0"
  }
 },
 "nbformat": 4,
 "nbformat_minor": 4
}

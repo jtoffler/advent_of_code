{
 "cells": [
  {
   "cell_type": "markdown",
   "metadata": {},
   "source": [
    "### Puzzle"
   ]
  },
  {
   "cell_type": "markdown",
   "metadata": {},
   "source": [
    "https://adventofcode.com/2020/day/12"
   ]
  },
  {
   "cell_type": "markdown",
   "metadata": {},
   "source": [
    "### Load Input"
   ]
  },
  {
   "cell_type": "code",
   "execution_count": 73,
   "metadata": {},
   "outputs": [],
   "source": [
    "# Store the location of the input directory\n",
    "data_dir = '../../../data/2020'\n",
    "\n",
    "# Open the input and store a list of each item as an int\n",
    "with open(f\"{data_dir}/day12_input.txt\") as f:\n",
    "    inputs = f.read().splitlines()"
   ]
  },
  {
   "cell_type": "markdown",
   "metadata": {},
   "source": [
    "### Part 1"
   ]
  },
  {
   "cell_type": "code",
   "execution_count": 74,
   "metadata": {},
   "outputs": [],
   "source": [
    "def new_position(direction, units, units_east, units_north):\n",
    "    # Get the ship's new position after a given instruction\n",
    "    if direction == 'E':\n",
    "        units_east += units\n",
    "\n",
    "    elif direction == 'W':\n",
    "        units_east -= units\n",
    "    \n",
    "    elif direction == 'N':\n",
    "        units_north += units\n",
    "    \n",
    "    elif direction == 'S':\n",
    "        units_north -= units\n",
    "        \n",
    "    return units_east, units_north"
   ]
  },
  {
   "cell_type": "code",
   "execution_count": 75,
   "metadata": {},
   "outputs": [],
   "source": [
    "instructions = inputs\n",
    "\n",
    "# Initialize the ship's heading and current coordinates\n",
    "ship_direction = 'E'\n",
    "units_east = 0\n",
    "units_north = 0\n",
    "\n",
    "# Store the cardinal directions in clockwise order around the compass\n",
    "cardinal_directions = ['N', 'E', 'S', 'W']"
   ]
  },
  {
   "cell_type": "code",
   "execution_count": 76,
   "metadata": {},
   "outputs": [],
   "source": [
    "# Follow each instruction\n",
    "for instruction in instructions:\n",
    "    # Split the instruction into direction and units\n",
    "    direction = instruction[0]\n",
    "    units = int(instruction[1:])\n",
    "    \n",
    "    # If direction is forward, go that many units in the ship's direction\n",
    "    if direction == 'F':\n",
    "        units_east, units_north = new_position(ship_direction, units, units_east, units_north)\n",
    "        \n",
    "    # If direction is left, adjust the ship's direction to the new direction\n",
    "    elif direction == 'L':\n",
    "        n_turns = units/90\n",
    "        ship_direction = cardinal_directions[int((cardinal_directions.index(ship_direction)-n_turns)%4)]\n",
    "     \n",
    "    # If direction is right, adjust the ship's direction to the new direction\n",
    "    elif direction == 'R':\n",
    "        n_turns = units/90\n",
    "        ship_direction = cardinal_directions[int((cardinal_directions.index(ship_direction)+n_turns)%4)]\n",
    "            \n",
    "    # If direction is a cardinal direction, go that many units in the given direction\n",
    "    else:\n",
    "        units_east, units_north = new_position(direction, units, units_east, units_north)"
   ]
  },
  {
   "cell_type": "code",
   "execution_count": 77,
   "metadata": {},
   "outputs": [
    {
     "data": {
      "text/plain": [
       "1838"
      ]
     },
     "execution_count": 77,
     "metadata": {},
     "output_type": "execute_result"
    }
   ],
   "source": [
    "# Calculate Manhattan distance\n",
    "abs(units_east) + abs(units_north)"
   ]
  },
  {
   "cell_type": "markdown",
   "metadata": {},
   "source": [
    "### Part 2"
   ]
  },
  {
   "cell_type": "code",
   "execution_count": 105,
   "metadata": {},
   "outputs": [],
   "source": [
    "def new_waypoint_position(direction, units, units_east, units_north):\n",
    "    # Get the ship's new position after a given instruction\n",
    "    if direction == 'E':\n",
    "        units_east += units\n",
    "\n",
    "    elif direction == 'W':\n",
    "        units_east -= units\n",
    "    \n",
    "    elif direction == 'N':\n",
    "        units_north += units\n",
    "    \n",
    "    elif direction == 'S':\n",
    "        units_north -= units\n",
    "        \n",
    "    return units_east, units_north\n",
    "\n",
    "\n",
    "def right_turn(units_east, units_north):\n",
    "    # Return the new direction after a 90-degree right turn\n",
    "    units_east_new = units_north\n",
    "    units_north_new = -1*units_east\n",
    "    \n",
    "    return units_east_new, units_north_new\n",
    "\n",
    "\n",
    "def left_turn(units_east, units_north):\n",
    "    # Return the new direction after a 90-degree left turn\n",
    "    units_east_new = -1*units_north\n",
    "    units_north_new = units_east\n",
    "    \n",
    "    return units_east_new, units_north_new"
   ]
  },
  {
   "cell_type": "code",
   "execution_count": 108,
   "metadata": {},
   "outputs": [],
   "source": [
    "instructions = inputs\n",
    "\n",
    "# instructions = ['F10', 'N3', 'F7', 'R90', 'F11']\n",
    "\n",
    "# Initialize the ship's heading and current coordinates\n",
    "ship_direction = 'E'\n",
    "ship_units_east = 0\n",
    "ship_units_north = 0\n",
    "\n",
    "# Initialize the waypoint's current coordinates\n",
    "waypoint_units_east = 10\n",
    "waypoint_units_north = 1\n",
    "\n",
    "# Store the cardinal directions in clockwise order around the compass\n",
    "cardinal_directions = ['N', 'E', 'S', 'W']"
   ]
  },
  {
   "cell_type": "code",
   "execution_count": 109,
   "metadata": {},
   "outputs": [],
   "source": [
    "# Follow each instruction\n",
    "for instruction in instructions:\n",
    "    # Split the instruction into direction and units\n",
    "    direction = instruction[0]\n",
    "    units = int(instruction[1:])\n",
    "    \n",
    "    # If direction is forward, go that many units towards the waypoint\n",
    "    if direction == 'F':\n",
    "        ship_units_east += units*waypoint_units_east\n",
    "        ship_units_north += units*waypoint_units_north\n",
    "        \n",
    "    # If direction is left, adjust the waypoint's direction to the new direction\n",
    "    elif direction == 'L':\n",
    "        n_turns = units/90        \n",
    "        for i in range(int(n_turns)):\n",
    "            waypoint_units_east, waypoint_units_north = left_turn(waypoint_units_east, waypoint_units_north)  \n",
    "             \n",
    "    # If direction is right, adjust the waypoint's direction to the new direction\n",
    "    elif direction == 'R':\n",
    "        n_turns = units/90        \n",
    "        for i in range(int(n_turns)):\n",
    "            waypoint_units_east, waypoint_units_north = right_turn(waypoint_units_east, waypoint_units_north) \n",
    "            \n",
    "    # If direction is a cardinal direction, change the waypoint position to that direction\n",
    "    else:\n",
    "        waypoint_units_east, waypoint_units_north = new_waypoint_position(direction, units, waypoint_units_east, waypoint_units_north)"
   ]
  },
  {
   "cell_type": "code",
   "execution_count": 111,
   "metadata": {},
   "outputs": [
    {
     "data": {
      "text/plain": [
       "89936"
      ]
     },
     "execution_count": 111,
     "metadata": {},
     "output_type": "execute_result"
    }
   ],
   "source": [
    "# Calculate Manhattan distance\n",
    "abs(ship_units_east) + abs(ship_units_north)"
   ]
  },
  {
   "cell_type": "code",
   "execution_count": null,
   "metadata": {},
   "outputs": [],
   "source": []
  }
 ],
 "metadata": {
  "kernelspec": {
   "display_name": "Python 3.9",
   "language": "python",
   "name": "py39"
  },
  "language_info": {
   "codemirror_mode": {
    "name": "ipython",
    "version": 3
   },
   "file_extension": ".py",
   "mimetype": "text/x-python",
   "name": "python",
   "nbconvert_exporter": "python",
   "pygments_lexer": "ipython3",
   "version": "3.9.0"
  }
 },
 "nbformat": 4,
 "nbformat_minor": 4
}

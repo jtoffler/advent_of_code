{
 "cells": [
  {
   "cell_type": "markdown",
   "metadata": {},
   "source": [
    "### Puzzle"
   ]
  },
  {
   "cell_type": "markdown",
   "metadata": {},
   "source": [
    "https://adventofcode.com/2020/day/23"
   ]
  },
  {
   "cell_type": "markdown",
   "metadata": {},
   "source": [
    "### Load Input"
   ]
  },
  {
   "cell_type": "code",
   "execution_count": 28,
   "metadata": {},
   "outputs": [],
   "source": [
    "# Store the location of the input directory\n",
    "data_dir = '../../../data/2020'\n",
    "\n",
    "# Open the input and store a list of each item as an int\n",
    "with open(f\"{data_dir}/day23_input.txt\") as f:\n",
    "    inputs = f.read().splitlines()"
   ]
  },
  {
   "cell_type": "markdown",
   "metadata": {},
   "source": [
    "### Part 1"
   ]
  },
  {
   "cell_type": "code",
   "execution_count": 38,
   "metadata": {},
   "outputs": [],
   "source": [
    "def cup_game(cups, start_cup, n_turns):    \n",
    "    # Repeat the game for the given number of turns\n",
    "    next_cup = start_cup\n",
    "\n",
    "    for i in range(n_turns):\n",
    "        \n",
    "        # Rearrange cups so that the starting cup is the first item in the list\n",
    "        cups = cups[cups.index(next_cup):] + cups[:cups.index(next_cup)]\n",
    "        \n",
    "        # Remove the next 3 cups\n",
    "        removed_cups = cups[1:4]\n",
    "\n",
    "        # Get the cups remaining after the cups have been removed\n",
    "        remaining_cups = [cups[0]] + cups[4:]\n",
    "\n",
    "        # Get the next lowest cup (wrapped around to the highest if the current cup is the lowest cup)\n",
    "        lower_cups = [cup for cup in remaining_cups if cup < next_cup]\n",
    "        if len(lower_cups) == 0:\n",
    "            target_cup = max(remaining_cups)\n",
    "        else:\n",
    "            target_cup = max(lower_cups)\n",
    "\n",
    "        # Add the removed cups back into the cup circle\n",
    "        if remaining_cups.index(target_cup) + 1 == len(remaining_cups):\n",
    "            cups = remaining_cups[:remaining_cups.index(target_cup)+1] + removed_cups\n",
    "        else:\n",
    "            cups = remaining_cups[:remaining_cups.index(target_cup)+1] + removed_cups + remaining_cups[remaining_cups.index(target_cup)+1:]\n",
    "\n",
    "        # Get the next cup\n",
    "        if cups.index(next_cup) + 1 == len(cups):\n",
    "            next_cup = cups[0]\n",
    "        else:\n",
    "            next_cup = cups[cups.index(next_cup) + 1]\n",
    "            \n",
    "    # Rearrange cups so that the starting cup is the number 1\n",
    "    cups = cups[cups.index(1):] + cups[:cups.index(1)]\n",
    "            \n",
    "    return cups"
   ]
  },
  {
   "cell_type": "code",
   "execution_count": 43,
   "metadata": {},
   "outputs": [],
   "source": [
    "cups = inputs[0]\n",
    "\n",
    "# Turn the string of cups into a list of ints\n",
    "cups = [int(cup) for cup in cups]\n",
    "\n",
    "# Run the game the appropriate number of times\n",
    "cups_final = cup_game(cups, cups[0], 100)"
   ]
  },
  {
   "cell_type": "code",
   "execution_count": 44,
   "metadata": {},
   "outputs": [
    {
     "data": {
      "text/plain": [
       "'25468379'"
      ]
     },
     "execution_count": 44,
     "metadata": {},
     "output_type": "execute_result"
    }
   ],
   "source": [
    "''.join([str(cup) for cup in cups_final[1:]])"
   ]
  },
  {
   "cell_type": "markdown",
   "metadata": {},
   "source": [
    "### Part 2"
   ]
  },
  {
   "cell_type": "markdown",
   "metadata": {},
   "source": [
    "Using lists takes too long so we need to find a faster method"
   ]
  },
  {
   "cell_type": "code",
   "execution_count": 95,
   "metadata": {},
   "outputs": [],
   "source": [
    "def cup_game_v2(cups, n_turns):\n",
    "    # Initialize a dictionary to store the subsequent cup\n",
    "    cups_dict = dict()\n",
    "\n",
    "    # For every cup, store the subsequent cup in the list\n",
    "    for i in range(len(cups)):\n",
    "        # For the last cup in the list, the subsequent cup is the first cup in the list\n",
    "        if i == len(cups) - 1:\n",
    "            cups_dict[cups[i]] = cups[0]\n",
    "        else:\n",
    "            cups_dict[cups[i]] = cups[i+1]\n",
    "       \n",
    "    # Initialize the next cup as the first cup\n",
    "    next_cup = cups[0]\n",
    "    \n",
    "    # Play the game the given number of turns\n",
    "    for i in range(n_turns+1):\n",
    "        \n",
    "        # Get the next 3 cups in the cup circle\n",
    "        cup_1 = cups_dict[next_cup]\n",
    "        cup_2 = cups_dict[cup_1]\n",
    "        cup_3 = cups_dict[cup_2]\n",
    "        \n",
    "        # The new subsequent cup for the current cup is the 4th cup in the list\n",
    "        cups_dict[next_cup] = cups_dict[cup_3]\n",
    "        \n",
    "        # Find the target cup\n",
    "        target_cup = next_cup - 1\n",
    "        \n",
    "        # If the target cup is in the next 3 cups subtract 1\n",
    "        while target_cup in [cup_1, cup_2, cup_3] or target_cup < 1:\n",
    "            target_cup -= 1\n",
    "            \n",
    "            # If the target cup is less than 1, the target cup is the max cup\n",
    "            if target_cup < 1:\n",
    "                target_cup = max(cups)\n",
    "                    \n",
    "        # Insert the removed cups into the list by setting cup 3's subsequent cup as target cup's subsequent cup\n",
    "        cups_dict[cup_3] = cups_dict[target_cup]\n",
    "        \n",
    "        # Set the target cup's subsequent cup as the first removed cup\n",
    "        cups_dict[target_cup] = cup_1\n",
    "        \n",
    "        # Set the cup for the next round\n",
    "        next_cup = cups_dict[next_cup]\n",
    "        \n",
    "    return cups_dict[1] * cups_dict[cups_dict[1]]"
   ]
  },
  {
   "cell_type": "code",
   "execution_count": 96,
   "metadata": {},
   "outputs": [],
   "source": [
    "# Add cups 10 through 1,000,000 to the cup circle\n",
    "cups = inputs[0]\n",
    "cups = [int(cup) for cup in cups] + list(range(10, 1000001))"
   ]
  },
  {
   "cell_type": "code",
   "execution_count": 97,
   "metadata": {},
   "outputs": [
    {
     "data": {
      "text/plain": [
       "474747880250"
      ]
     },
     "execution_count": 97,
     "metadata": {},
     "output_type": "execute_result"
    }
   ],
   "source": [
    "cup_game_v2(cups, 10000000)"
   ]
  }
 ],
 "metadata": {
  "kernelspec": {
   "display_name": "Python 3.9",
   "language": "python",
   "name": "py39"
  },
  "language_info": {
   "codemirror_mode": {
    "name": "ipython",
    "version": 3
   },
   "file_extension": ".py",
   "mimetype": "text/x-python",
   "name": "python",
   "nbconvert_exporter": "python",
   "pygments_lexer": "ipython3",
   "version": "3.9.0"
  }
 },
 "nbformat": 4,
 "nbformat_minor": 4
}

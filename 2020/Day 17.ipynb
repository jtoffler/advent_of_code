{
 "cells": [
  {
   "cell_type": "markdown",
   "metadata": {},
   "source": [
    "### Puzzle"
   ]
  },
  {
   "cell_type": "markdown",
   "metadata": {},
   "source": [
    "https://adventofcode.com/2020/day/17"
   ]
  },
  {
   "cell_type": "markdown",
   "metadata": {},
   "source": [
    "### Imports"
   ]
  },
  {
   "cell_type": "code",
   "execution_count": 203,
   "metadata": {},
   "outputs": [],
   "source": [
    "import pandas as pd"
   ]
  },
  {
   "cell_type": "markdown",
   "metadata": {},
   "source": [
    "### Part 1 Input"
   ]
  },
  {
   "cell_type": "code",
   "execution_count": 287,
   "metadata": {},
   "outputs": [],
   "source": [
    "# Manually adjust input to be stored as a list of lists of lists\n",
    "state_0 = [[list('#...#...'),\n",
    "           list('#..#...#'),\n",
    "           list('..###..#'),\n",
    "           list('.#..##..'),\n",
    "           list('####...#'),\n",
    "           list('######..'),\n",
    "           list('...#..#.'),\n",
    "           list('##.#.#.#')]]"
   ]
  },
  {
   "cell_type": "markdown",
   "metadata": {
    "heading_collapsed": true
   },
   "source": [
    "### Part 1 Helper Functions"
   ]
  },
  {
   "cell_type": "code",
   "execution_count": 271,
   "metadata": {
    "hidden": true
   },
   "outputs": [],
   "source": [
    "def active(input_state, z, y, x):\n",
    "    # Return the value of a cube that starts active\n",
    "    # Get relevant neighbors for each dimension (neighbors outside the final shape can be ignored)\n",
    "    z_neighbors = range(max(z-1, min(input_state.keys())), min(z+1, max(input_state.keys())) + 1)\n",
    "    y_neighbors = range(max(y-1, min(input_state[z].columns)), min(y+1, max(input_state[z].columns)) + 1)\n",
    "    x_neighbors = range(max(x-1, min(input_state[z].columns)), min(x+1, max(input_state[z].columns)) + 1)\n",
    "    \n",
    "    # Initialize a counter to count active neighbors\n",
    "    active_neighbors = 0\n",
    "    \n",
    "    # Loop through each dimension\n",
    "    for z_neighbor in z_neighbors:\n",
    "        for y_neighbor in y_neighbors:\n",
    "            for x_neighbor in x_neighbors:\n",
    "                \n",
    "                # Ignore self\n",
    "                if not(z_neighbor == z and y_neighbor == y and x_neighbor == x):\n",
    "                    \n",
    "                    # If neighbor is active, add to the active_neighbors counter\n",
    "                    if input_state[z_neighbor][y_neighbor][x_neighbor] == '#':\n",
    "                        active_neighbors += 1\n",
    "\n",
    "    # Follow the rules that determine whether this cube is active or inactive in the next state                    \n",
    "    if active_neighbors == 2 or active_neighbors == 3:\n",
    "        return '#'\n",
    "    else:\n",
    "        return '.'"
   ]
  },
  {
   "cell_type": "code",
   "execution_count": 272,
   "metadata": {
    "hidden": true
   },
   "outputs": [],
   "source": [
    "def inactive(input_state, z, y, x):\n",
    "    # Return the value of a cube that starts active\n",
    "    # Get relevant neighbors for each dimension (neighbors outside the final shape can be ignored)\n",
    "    z_neighbors = range(max(z-1, min(input_state.keys())), min(z+1, max(input_state.keys())) + 1)\n",
    "    y_neighbors = range(max(y-1, min(input_state[z].columns)), min(y+1, max(input_state[z].columns)) + 1)\n",
    "    x_neighbors = range(max(x-1, min(input_state[z].columns)), min(x+1, max(input_state[z].columns)) + 1)\n",
    "    \n",
    "    # Initialize a counter to count active neighbors\n",
    "    active_neighbors = 0\n",
    "    \n",
    "    # Loop through each dimension\n",
    "    for z_neighbor in z_neighbors:\n",
    "        for y_neighbor in y_neighbors:\n",
    "            for x_neighbor in x_neighbors:\n",
    "                \n",
    "                # Ignore self\n",
    "                if not (z_neighbor == z and y_neighbor == y and x_neighbor == x):\n",
    "                    \n",
    "                    # If neighbor is active, add to the active_neighbors counter\n",
    "                    if input_state[z_neighbor][y_neighbor][x_neighbor] == '#':\n",
    "                        active_neighbors += 1\n",
    "\n",
    "    # Follow the rules that determine whether this cube is active or inactive in the next state  \n",
    "    if active_neighbors == 3:\n",
    "        return '#'\n",
    "    else:\n",
    "        return '.'"
   ]
  },
  {
   "cell_type": "code",
   "execution_count": 273,
   "metadata": {
    "hidden": true
   },
   "outputs": [],
   "source": [
    "def next_state(input_state):\n",
    "    # Initialize the next state\n",
    "    output_state = dict()\n",
    "    \n",
    "    # Get the coordinates of the current cube by looping through each dimension\n",
    "    for z in input_state.keys():\n",
    "        # Create a copy of the dataframe that can be overwritten\n",
    "        output_state[z] = input_state[z].copy()\n",
    "        \n",
    "        for y in input_state[z].columns:\n",
    "            for x in input_state[z].columns:\n",
    "                \n",
    "                # If the current cube is inactive, run it through the inactive function\n",
    "                if input_state[z][y][x] == '.':\n",
    "                    output_state[z][y][x] = inactive(input_state, z, y, x)\n",
    "                    \n",
    "                # If the current cube is active, run it through the active funtcion\n",
    "                else:\n",
    "                    output_state[z][y][x] = active(input_state, z, y, x)\n",
    "                    \n",
    "    return output_state"
   ]
  },
  {
   "cell_type": "code",
   "execution_count": 274,
   "metadata": {
    "hidden": true
   },
   "outputs": [],
   "source": [
    "def run_cycles(state_0, n_cycles):\n",
    "    # Get the output after running the given number of cycles\n",
    "    start_state = state_0\n",
    "    \n",
    "    for cycle in range(n_cycles):\n",
    "        end_state = next_state(start_state)\n",
    "        start_state = end_state\n",
    "        \n",
    "    return end_state"
   ]
  },
  {
   "cell_type": "markdown",
   "metadata": {},
   "source": [
    "### Part 1"
   ]
  },
  {
   "cell_type": "code",
   "execution_count": 243,
   "metadata": {},
   "outputs": [],
   "source": [
    "# Declare how many cycles there will be\n",
    "n_cycles = 6"
   ]
  },
  {
   "cell_type": "code",
   "execution_count": 244,
   "metadata": {},
   "outputs": [],
   "source": [
    "# Declare the shape of the initial state\n",
    "start_shape = [1, len(state_0[0][0]), len(state_0[0])]\n",
    "        \n",
    "# Store what the final shape of the cube space will be\n",
    "final_shape = [dimension + 2*n_cycles for dimension in start_shape]"
   ]
  },
  {
   "cell_type": "code",
   "execution_count": 246,
   "metadata": {},
   "outputs": [],
   "source": [
    "# Initialize the starting state of the entire final cube\n",
    "len_z = final_shape[0]\n",
    "len_y = final_shape[1]\n",
    "len_x = final_shape[2]\n",
    "\n",
    "# Initialize a dictionary to hold two-dimensional dataframes\n",
    "state_null = dict()\n",
    "\n",
    "# Store the column names and row names with (0, 0, 0) in the middle so that the indices can be used to access cubes\n",
    "column_names = [int(x - n_cycles) for x in range(len_x)]\n",
    "row_names = [int(y - n_cycles) for y in range(len_y)]\n",
    "\n",
    "# Create a null state that is the size of the final state with all cubes inactive\n",
    "for i in range(len_z):\n",
    "    state_null[int(i - n_cycles)] = pd.DataFrame([['.']*len_y]*len_x, columns=column_names, index=row_names)"
   ]
  },
  {
   "cell_type": "code",
   "execution_count": 248,
   "metadata": {},
   "outputs": [],
   "source": [
    "# Add the starting_state input to the null state\n",
    "for z in range(len(state_0)):\n",
    "    for y in range(len(state_0[0])):\n",
    "        for x in range(len(state_0[0][0])):\n",
    "            state_null[z][y][x] = state_0[z][x][y]\n",
    "\n",
    "# Call this larger starting state state_0\n",
    "state_0 = state_null"
   ]
  },
  {
   "cell_type": "code",
   "execution_count": 275,
   "metadata": {},
   "outputs": [],
   "source": [
    "# Run the given number of cycles\n",
    "final_state = run_cycles(state_0, n_cycles)"
   ]
  },
  {
   "cell_type": "code",
   "execution_count": 276,
   "metadata": {},
   "outputs": [
    {
     "name": "stdout",
     "output_type": "stream",
     "text": [
      "252\n"
     ]
    }
   ],
   "source": [
    "# Initialize a counter for active cubes\n",
    "active_cubes = 0\n",
    "\n",
    "# Loop through the dimensions and check the status of every cube\n",
    "for z in final_state.keys():\n",
    "    for y in final_state[z].columns:\n",
    "        for x in final_state[z].columns:\n",
    "            \n",
    "            # If the cube is active, add it to the counter\n",
    "            if final_state[z][y][x] == '#':\n",
    "                active_cubes += 1\n",
    "\n",
    "print(active_cubes)"
   ]
  },
  {
   "cell_type": "markdown",
   "metadata": {
    "heading_collapsed": true
   },
   "source": [
    "### Part 2 Input"
   ]
  },
  {
   "cell_type": "code",
   "execution_count": 604,
   "metadata": {
    "hidden": true
   },
   "outputs": [],
   "source": [
    "state_0 = [[[list('#...#...'),\n",
    "           list('#..#...#'),\n",
    "           list('..###..#'),\n",
    "           list('.#..##..'),\n",
    "           list('####...#'),\n",
    "           list('######..'),\n",
    "           list('...#..#.'),\n",
    "           list('##.#.#.#')]]]"
   ]
  },
  {
   "cell_type": "markdown",
   "metadata": {
    "heading_collapsed": true
   },
   "source": [
    "### Part 2 Helper Functions"
   ]
  },
  {
   "cell_type": "code",
   "execution_count": 609,
   "metadata": {
    "hidden": true
   },
   "outputs": [],
   "source": [
    "def active_v2(input_state, z, y, x, w):\n",
    "    # Return the value of a cube that starts active\n",
    "    # Get relevant neighbors for each dimension (neighbors outside the final shape can be ignored)\n",
    "    z_neighbors = range(max(z-1, min(input_state.keys())), min(z+1, max(input_state.keys())) + 1)\n",
    "    y_neighbors = range(max(y-1, min(input_state[z][w].columns)), min(y+1, max(input_state[z][w].columns)) + 1)\n",
    "    x_neighbors = range(max(x-1, min(input_state[z][w].columns)), min(x+1, max(input_state[z][w].columns)) + 1)\n",
    "    w_neighbors = range(max(w-1, min(input_state[z].keys())), min(w+1, max(input_state[z].keys())) + 1)\n",
    "    \n",
    "    # Initialize a counter to count active neighbors\n",
    "    active_neighbors = 0\n",
    "    \n",
    "    # Loop through each dimension\n",
    "    for z_neighbor in z_neighbors:\n",
    "        for y_neighbor in y_neighbors:\n",
    "            for x_neighbor in x_neighbors:\n",
    "                for w_neighbor in w_neighbors:\n",
    "                    \n",
    "                    # Ignore self\n",
    "                    if not(z_neighbor == z and y_neighbor == y and x_neighbor == x and w_neighbor == w):\n",
    "\n",
    "                        # If neighbor is active, add to the active_neighbors counter\n",
    "                        if input_state[z_neighbor][w_neighbor][y_neighbor][x_neighbor] == '#':\n",
    "                            active_neighbors += 1\n",
    "\n",
    "    # Follow the rules that determine whether this cube is active or inactive in the next state  \n",
    "    if active_neighbors == 2 or active_neighbors == 3:\n",
    "        return '#'\n",
    "    else:\n",
    "        return '.'"
   ]
  },
  {
   "cell_type": "code",
   "execution_count": 610,
   "metadata": {
    "hidden": true
   },
   "outputs": [],
   "source": [
    "def inactive_v2(input_state, z, y, x, w):\n",
    "    # Return the value of a cube that starts active\n",
    "    # Get relevant neighbors for each dimension (neighbors outside the final shape can be ignored)\n",
    "    z_neighbors = range(max(z-1, min(input_state.keys())), min(z+1, max(input_state.keys())) + 1)\n",
    "    y_neighbors = range(max(y-1, min(input_state[z][w].columns)), min(y+1, max(input_state[z][w].columns)) + 1)\n",
    "    x_neighbors = range(max(x-1, min(input_state[z][w].columns)), min(x+1, max(input_state[z][w].columns)) + 1)\n",
    "    w_neighbors = range(max(w-1, min(input_state[z].keys())), min(w+1, max(input_state[z].keys())) + 1)\n",
    "    \n",
    "    # Initialize a counter to count active neighbors\n",
    "    active_neighbors = 0\n",
    "    \n",
    "    # Loop through each dimension\n",
    "    for z_neighbor in z_neighbors:\n",
    "        for y_neighbor in y_neighbors:\n",
    "            for x_neighbor in x_neighbors:\n",
    "                for w_neighbor in w_neighbors:\n",
    "\n",
    "                    # Ignore self\n",
    "                    if not (z_neighbor == z and y_neighbor == y and x_neighbor == x and w_neighbor == w):\n",
    "\n",
    "                        # If neighbor is active, add to the active_neighbors counter\n",
    "                        if input_state[z_neighbor][w_neighbor][y_neighbor][x_neighbor] == '#':\n",
    "                            active_neighbors += 1\n",
    "\n",
    "    # Follow the rules that determine whether this cube is active or inactive in the next state  \n",
    "    if active_neighbors == 3:\n",
    "        return '#'\n",
    "    else:\n",
    "        return '.'"
   ]
  },
  {
   "cell_type": "code",
   "execution_count": 611,
   "metadata": {
    "hidden": true
   },
   "outputs": [],
   "source": [
    "def next_state_v2(input_state):\n",
    "    # Initialize the next state\n",
    "    output_state = dict()\n",
    "    \n",
    "    # Get the coordinates of the current cube by looping through each dimension\n",
    "    for z in input_state.keys():\n",
    "        # Add a new dictionary as a value for this key if the key doesn't already exist\n",
    "        if z not in output_state.keys():\n",
    "                output_state[z] = dict()\n",
    "        \n",
    "        # Create a copy of the dataframe that can be overwritten\n",
    "        for w in input_state[z].keys():\n",
    "            output_state[z][w] = input_state[z][w].copy()\n",
    "\n",
    "            for y in input_state[z][w].columns:\n",
    "                for x in input_state[z][w].columns:\n",
    "                    \n",
    "                    # If the current cube is inactive, run it through the inactive function\n",
    "                    if input_state[z][w][y][x] == '.':\n",
    "                        output_state[z][w][y][x] = inactive_v2(input_state, z, y, x, w)\n",
    "                        \n",
    "                    # If the current cube is active, run it through the active funtcion\n",
    "                    else:\n",
    "                        output_state[z][w][y][x] = active_v2(input_state, z, y, x, w)\n",
    "                    \n",
    "    return output_state"
   ]
  },
  {
   "cell_type": "code",
   "execution_count": 612,
   "metadata": {
    "hidden": true
   },
   "outputs": [],
   "source": [
    "def run_cycles_v2(state_0, n_cycles):\n",
    "    # Get the output after running the given number of cycles\n",
    "    start_state = state_0\n",
    "    \n",
    "    for cycle in range(n_cycles):\n",
    "        end_state = next_state_v2(start_state)\n",
    "        start_state = end_state\n",
    "        \n",
    "    return end_state"
   ]
  },
  {
   "cell_type": "markdown",
   "metadata": {},
   "source": [
    "### Part 2"
   ]
  },
  {
   "cell_type": "code",
   "execution_count": 605,
   "metadata": {},
   "outputs": [],
   "source": [
    "# Declare how many cycles there will be\n",
    "n_cycles = 6"
   ]
  },
  {
   "cell_type": "code",
   "execution_count": 606,
   "metadata": {},
   "outputs": [],
   "source": [
    "# Declare the shape of the initial state\n",
    "start_shape = [1, 1, len(state_0[0][0][0]), len(state_0[0][0])]\n",
    "        \n",
    "# Store what the final shape of the cube space will be\n",
    "final_shape = [dimension + 2*n_cycles for dimension in start_shape]"
   ]
  },
  {
   "cell_type": "code",
   "execution_count": 607,
   "metadata": {},
   "outputs": [],
   "source": [
    "# Initialize the starting state of the entire final cube\n",
    "len_z = final_shape[0]\n",
    "len_y = final_shape[2]\n",
    "len_x = final_shape[3]\n",
    "len_w = final_shape[1]\n",
    "\n",
    "# Initialize a dictionary to hold two-dimensional dataframes\n",
    "state_null = dict()\n",
    "\n",
    "# Store the column names and row names with (0, 0, 0) in the middle so that the indices can be used to access cubes\n",
    "column_names = [int(x - n_cycles) for x in range(len_x)]\n",
    "row_names = [int(y - n_cycles) for y in range(len_y)]\n",
    "\n",
    "# Create a null state that is the size of the final state with all cubes inactive\n",
    "for i in range(len_z):\n",
    "    for j in range(len_w):\n",
    "        if int(i - n_cycles) not in state_null.keys():\n",
    "            state_null[int(i - n_cycles)] = dict()\n",
    "        state_null[int(i - n_cycles)][int(j - n_cycles)] = pd.DataFrame([['.']*len_y]*len_x, columns=column_names, index=row_names)    "
   ]
  },
  {
   "cell_type": "code",
   "execution_count": 608,
   "metadata": {},
   "outputs": [],
   "source": [
    "# Add the starting_state input to the null state\n",
    "for z in range(len(state_0)):\n",
    "    for w in range(len(state_0[0])):\n",
    "        for y in range(len(state_0[0][0])):\n",
    "            for x in range(len(state_0[0][0][0])):\n",
    "                state_null[z][w][x][y] = state_0[z][w][y][x]\n",
    "\n",
    "# Call this larger starting state state_0\n",
    "state_0 = state_null"
   ]
  },
  {
   "cell_type": "code",
   "execution_count": 613,
   "metadata": {},
   "outputs": [],
   "source": [
    "# Run the given number of cycles\n",
    "final_state = run_cycles_v2(state_0, n_cycles)"
   ]
  },
  {
   "cell_type": "code",
   "execution_count": 614,
   "metadata": {},
   "outputs": [
    {
     "name": "stdout",
     "output_type": "stream",
     "text": [
      "2160\n"
     ]
    }
   ],
   "source": [
    "# Initialize a counter for active cubes\n",
    "active_cubes = 0\n",
    "\n",
    "# Loop through the dimensions and check the status of every cube\n",
    "for z in final_state.keys():\n",
    "    for w in final_state[z].keys():\n",
    "        for y in final_state[z][w].columns:\n",
    "            for x in final_state[z][w].columns:\n",
    "                \n",
    "                # If the cube is active, add it to the counter\n",
    "                if final_state[z][w][y][x] == '#':\n",
    "                    active_cubes += 1\n",
    "\n",
    "print(active_cubes)"
   ]
  },
  {
   "cell_type": "code",
   "execution_count": null,
   "metadata": {},
   "outputs": [],
   "source": []
  }
 ],
 "metadata": {
  "kernelspec": {
   "display_name": "Python 3.9",
   "language": "python",
   "name": "py39"
  },
  "language_info": {
   "codemirror_mode": {
    "name": "ipython",
    "version": 3
   },
   "file_extension": ".py",
   "mimetype": "text/x-python",
   "name": "python",
   "nbconvert_exporter": "python",
   "pygments_lexer": "ipython3",
   "version": "3.9.0"
  }
 },
 "nbformat": 4,
 "nbformat_minor": 4
}

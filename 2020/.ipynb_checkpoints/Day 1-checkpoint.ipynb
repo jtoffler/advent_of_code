{
 "cells": [
  {
   "cell_type": "markdown",
   "metadata": {},
   "source": [
    "### Puzzle"
   ]
  },
  {
   "cell_type": "markdown",
   "metadata": {},
   "source": [
    "https://adventofcode.com/2020/day/1"
   ]
  },
  {
   "cell_type": "markdown",
   "metadata": {},
   "source": [
    "### Input"
   ]
  },
  {
   "cell_type": "code",
   "execution_count": 1,
   "metadata": {},
   "outputs": [],
   "source": [
    "expense_report = [261, 1773, 1839, 1551, 1781, 1276, 1372, 1668, 1823, 1870, 1672, 1821, 1327, 1902, 1949, 1389, 1720,\n",
    "                  1437, 1716, 1360, 1893, 1410, 1881, 1927, 1639, 1514, 1753, 1625, 1249, 1696, 1698, 1699, 2004, 1742,\n",
    "                  1903, 473, 1948, 1830, 1973, 2005, 1468, 1824, 1809, 1493, 2009, 1848, 1306, 1519, 1618, 1905, 1402,\n",
    "                  1705, 1910, 1609, 1571, 1557, 1420, 608, 1471, 1383, 1442, 1447, 1985, 1486, 1629, 1450, 1767, 1407,\n",
    "                  1626, 1623, 1467, 1224, 1269, 1325, 1674, 1945, 1733, 1913, 1451, 1853, 1875, 405, 1500, 1634, 1570,\n",
    "                  1868, 1510, 1069, 1296, 1852, 1287, 1274, 832, 1373, 1142, 1838, 1854, 1480, 1628, 1632, 1597, 1761,\n",
    "                  1717, 1684, 1956, 1351, 1622, 1941, 1704, 1926, 1873, 1393, 1850, 1898, 1960, 1673, 1736, 1901, 1806,\n",
    "                  1768, 1670, 1989, 1214, 1851, 1715, 1461, 1277, 951, 1482, 1464, 1883, 1976, 1602, 1606, 1258, 1801,\n",
    "                  1593, 1332, 1386, 1309, 1388, 1762, 1533, 1805, 1462, 375, 1555, 1357, 1578, 1552, 1473, 1834, 1262,\n",
    "                  1466, 1925, 1955, 1575, 1975, 1964, 1440, 1667, 1922, 1454, 1813, 1968, 1836, 1982, 1326, 1811, 900,\n",
    "                  1588, 1529, 1997, 1345, 1859, 1458, 1764, 1509, 1397, 1237, 1627, 1564, 1814, 1842, 1679, 1289, 1957,\n",
    "                  1819, 801, 1350, 1841, 1803, 1718, 1966, 1272, 1636, 1352, 1496, 1455, 1488]"
   ]
  },
  {
   "cell_type": "markdown",
   "metadata": {},
   "source": [
    "### Part 1"
   ]
  },
  {
   "cell_type": "code",
   "execution_count": 10,
   "metadata": {},
   "outputs": [],
   "source": [
    "def sum_2020(expense_report):\n",
    "    # Check every item but the last in the expense report with every later item in the expense report\n",
    "    for i in range(len(expense_report)-1):\n",
    "        for j in range(i+1, len(expense_report)):\n",
    "            \n",
    "            # If two items sum to 2020, return the product of those two items\n",
    "            if expense_report[i]+expense_report[j] == 2020:\n",
    "                return expense_report[i]*expense_report[j]"
   ]
  },
  {
   "cell_type": "code",
   "execution_count": 11,
   "metadata": {},
   "outputs": [
    {
     "data": {
      "text/plain": [
       "1016619"
      ]
     },
     "execution_count": 11,
     "metadata": {},
     "output_type": "execute_result"
    }
   ],
   "source": [
    "sum_2020(expense_report)"
   ]
  },
  {
   "cell_type": "markdown",
   "metadata": {},
   "source": [
    "### Part 2"
   ]
  },
  {
   "cell_type": "code",
   "execution_count": 13,
   "metadata": {},
   "outputs": [],
   "source": [
    "def sum_2020_v2(expense_report):\n",
    "    # Check every item but the last and second-last in the expense report with every later item in the expense report\n",
    "    for i in range(len(expense_report)-2):\n",
    "        for j in range(i+1, len(expense_report)-1):\n",
    "            \n",
    "            # If the first two expenses already exceed 2020, don't bother checking if a third item sums to 2020\n",
    "            if expense_report[i] + expense_report[j] > 2020:\n",
    "                pass\n",
    "            else:\n",
    "                for k in range(j+1, len(expense_report)):\n",
    "                    if expense_report[i] + expense_report[j] + expense_report[k] == 2020:\n",
    "                        return expense_report[i]*expense_report[j]*expense_report[k]"
   ]
  },
  {
   "cell_type": "code",
   "execution_count": 14,
   "metadata": {},
   "outputs": [
    {
     "data": {
      "text/plain": [
       "218767230"
      ]
     },
     "execution_count": 14,
     "metadata": {},
     "output_type": "execute_result"
    }
   ],
   "source": [
    "sum_2020_v2(expense_report)"
   ]
  },
  {
   "cell_type": "code",
   "execution_count": null,
   "metadata": {},
   "outputs": [],
   "source": []
  }
 ],
 "metadata": {
  "kernelspec": {
   "display_name": "Python 3.9",
   "language": "python",
   "name": "py39"
  },
  "language_info": {
   "codemirror_mode": {
    "name": "ipython",
    "version": 3
   },
   "file_extension": ".py",
   "mimetype": "text/x-python",
   "name": "python",
   "nbconvert_exporter": "python",
   "pygments_lexer": "ipython3",
   "version": "3.9.0"
  }
 },
 "nbformat": 4,
 "nbformat_minor": 4
}

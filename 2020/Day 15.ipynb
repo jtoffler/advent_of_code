{
 "cells": [
  {
   "cell_type": "markdown",
   "metadata": {},
   "source": [
    "### Puzzle"
   ]
  },
  {
   "cell_type": "markdown",
   "metadata": {},
   "source": [
    "https://adventofcode.com/2020/day/15"
   ]
  },
  {
   "cell_type": "markdown",
   "metadata": {},
   "source": [
    "### Part 1"
   ]
  },
  {
   "cell_type": "code",
   "execution_count": 25,
   "metadata": {},
   "outputs": [
    {
     "name": "stdout",
     "output_type": "stream",
     "text": [
      "1009\n"
     ]
    }
   ],
   "source": [
    "starting_numbers = [2, 0, 1, 9, 5, 19]\n",
    "\n",
    "while len(starting_numbers) < 2020:\n",
    "    # Store the most recent number and the prior numbers, starting with the second-most recent\n",
    "    last_number = starting_numbers[-1]\n",
    "    prior_numbers = starting_numbers[:-1].copy()[::-1]\n",
    "    \n",
    "    # If the newest number has been seen before, count how long ago it was most recently seen and add that as the next number\n",
    "    if last_number in prior_numbers:\n",
    "        starting_numbers.append(prior_numbers.index(last_number) + 1)\n",
    "        \n",
    "    # If the newest number has not been seen before, add 0 as the next number\n",
    "    else:\n",
    "        starting_numbers.append(0)\n",
    "\n",
    "print(starting_numbers[-1])"
   ]
  },
  {
   "cell_type": "markdown",
   "metadata": {},
   "source": [
    "### Part 2"
   ]
  },
  {
   "cell_type": "markdown",
   "metadata": {},
   "source": [
    "Due to time constraints, a more efficient method was needed to complete part two"
   ]
  },
  {
   "cell_type": "code",
   "execution_count": 71,
   "metadata": {},
   "outputs": [
    {
     "name": "stdout",
     "output_type": "stream",
     "text": [
      "62714\n"
     ]
    }
   ],
   "source": [
    "starting_numbers = [2, 0, 1, 9, 5, 19]\n",
    "\n",
    "# Initialize a dictionary where the key is a number and the value is a list of indices containing that number\n",
    "numbers_dict = dict()\n",
    "\n",
    "# Insert the starting numbers into the dictionary except for the last number\n",
    "for i in range(len(starting_numbers) - 1):\n",
    "    if starting_numbers[i] in numbers_dict.keys():\n",
    "        numbers_dict[starting_numbers[i]].append(i+1)\n",
    "    else:\n",
    "        numbers_dict[starting_numbers[i]] = [i+1]\n",
    "\n",
    "# Store the last starting number as the current number and the length of the list as the current turn of the game\n",
    "current_number = starting_numbers[-1]\n",
    "current_turn = len(starting_numbers)\n",
    "\n",
    "# Iterate through the game until the desired number of turns is complete\n",
    "while current_turn < 30000000:\n",
    "    # Add the current turn to the current number's list if it's been seen\n",
    "    if current_number in numbers_dict.keys():\n",
    "        numbers_dict[current_number].append(current_turn)\n",
    "        current_number = current_turn - numbers_dict[current_number][-2]\n",
    "    \n",
    "    # Start a new list with that turn number if the current number hasn't been seen\n",
    "    else:\n",
    "        numbers_dict[current_number] = [current_turn]\n",
    "        current_number = 0\n",
    "    \n",
    "    # Keep track of the current turn\n",
    "    current_turn += 1\n",
    "\n",
    "print(current_number)"
   ]
  },
  {
   "cell_type": "code",
   "execution_count": null,
   "metadata": {},
   "outputs": [],
   "source": []
  }
 ],
 "metadata": {
  "kernelspec": {
   "display_name": "Python 3",
   "language": "python",
   "name": "python3"
  },
  "language_info": {
   "codemirror_mode": {
    "name": "ipython",
    "version": 3
   },
   "file_extension": ".py",
   "mimetype": "text/x-python",
   "name": "python",
   "nbconvert_exporter": "python",
   "pygments_lexer": "ipython3",
   "version": "3.6.8"
  }
 },
 "nbformat": 4,
 "nbformat_minor": 2
}
